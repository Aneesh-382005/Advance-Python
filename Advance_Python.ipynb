{
  "cells": [
    {
      "cell_type": "markdown",
      "metadata": {
        "id": "view-in-github",
        "colab_type": "text"
      },
      "source": [
        "<a href=\"https://colab.research.google.com/github/NoobCoder6969/Advance-Python/blob/main/Advance_Python.ipynb\" target=\"_parent\"><img src=\"https://colab.research.google.com/assets/colab-badge.svg\" alt=\"Open In Colab\"/></a>"
      ]
    },
    {
      "cell_type": "markdown",
      "metadata": {
        "id": "W0_HMt4sTq4p"
      },
      "source": [
        "### 1. Create a file that contains 1000 lines of random strings."
      ]
    },
    {
      "cell_type": "code",
      "execution_count": null,
      "metadata": {
        "colab": {
          "base_uri": "https://localhost:8080/"
        },
        "id": "8K188nVpTpjI",
        "outputId": "77a9ef0d-d42d-4859-8344-556e48c9ddcf"
      },
      "outputs": [
        {
          "name": "stdout",
          "output_type": "stream",
          "text": [
            "Operation Complete\n"
          ]
        }
      ],
      "source": [
        "\n",
        "import random as r\n",
        "import string as s\n",
        "\n",
        "file = open('randomStrings', 'w')\n",
        "\n",
        "for i in range(1000):\n",
        "  stringSize = r.randint(10, 15)\n",
        "  sampleString = r.sample(s.ascii_letters + s.digits, stringSize)\n",
        "  file.write(''.join(sampleString)+ '\\n')\n",
        "\n",
        "print(\"Operation Complete\")"
      ]
    },
    {
      "cell_type": "markdown",
      "metadata": {
        "id": "go8nfTX8U67H"
      },
      "source": [
        "### 2. Create a file that contains multiple lines of random strings and file size must be 5 MB."
      ]
    },
    {
      "cell_type": "code",
      "execution_count": null,
      "metadata": {
        "colab": {
          "base_uri": "https://localhost:8080/"
        },
        "id": "9NZo8gToOZ78",
        "outputId": "4c22967d-18fe-4097-a1d5-71bf4b1e65f2"
      },
      "outputs": [
        {
          "name": "stdout",
          "output_type": "stream",
          "text": [
            "Operation Complete\n"
          ]
        }
      ],
      "source": [
        "import random as r\n",
        "import string as s\n",
        "\n",
        "def GenerateRandomString(stringSize):\n",
        "  return ''.join(r.choice(s.ascii_letters + s.digits) for i in range(stringSize))\n",
        "\n",
        "FileSizeMB = 5\n",
        "bytesTotal = FileSizeMB * 1024 * 1024\n",
        "bytesWritten = 0\n",
        "with open('randomStrings5MB', 'w') as file:\n",
        "  while bytesWritten <= bytesTotal:\n",
        "    stringSize = r.randint(10, 15)\n",
        "    sampleString = GenerateRandomString(stringSize)\n",
        "    file.write(sampleString + '\\n')\n",
        "    bytesWritten += len(sampleString) + 1\n",
        "\n",
        "print(\"Operation Complete\")"
      ]
    },
    {
      "cell_type": "markdown",
      "metadata": {
        "id": "YMYliUPE75qI"
      },
      "source": [
        "### 3. Create 10 files that contains multiple lines of random strings and file size of each file must be 5 MB."
      ]
    },
    {
      "cell_type": "code",
      "execution_count": null,
      "metadata": {
        "colab": {
          "base_uri": "https://localhost:8080/"
        },
        "id": "JrMtRux17iW0",
        "outputId": "a92cf349-aae4-445f-9d3d-2763b0299ce7"
      },
      "outputs": [
        {
          "name": "stdout",
          "output_type": "stream",
          "text": [
            "Operation Complete\n"
          ]
        }
      ],
      "source": [
        "import random as r\n",
        "import string as s\n",
        "\n",
        "def GenerateRandomString(stringSize):\n",
        "  return ''.join(r.choice(s.ascii_letters + s.digits) for i in range(stringSize))\n",
        "\n",
        "for i in range(10):\n",
        "  FileSizeMB = 5\n",
        "  bytesTotal = FileSizeMB * 1024 * 1024\n",
        "  bytesWritten = 0\n",
        "\n",
        "  with open(f'randomStrings{i}', 'w') as file:\n",
        "    while bytesWritten <= bytesTotal:\n",
        "      stringSize = r.randint(10, 15)\n",
        "      sampleString = GenerateRandomString(stringSize)\n",
        "      file.write(sampleString + '\\n')\n",
        "      bytesWritten += len(sampleString) + 1\n",
        "\n",
        "print(\"Operation Complete\")"
      ]
    },
    {
      "cell_type": "markdown",
      "metadata": {
        "id": "FHwRsrz5Ei2t"
      },
      "source": [
        "### 4. Create 5 files of size 1GB, 2GB, 3GB, 4GB and 5GB; file contains multiple lines of random strings."
      ]
    },
    {
      "cell_type": "code",
      "execution_count": null,
      "metadata": {
        "colab": {
          "background_save": true,
          "base_uri": "https://localhost:8080/"
        },
        "id": "hzaeaTjoEY_N",
        "outputId": "8702761e-60f2-487f-eb0e-35d4efb5d1ad"
      },
      "outputs": [
        {
          "name": "stdout",
          "output_type": "stream",
          "text": [
            "Operation Complete for 1 GB\n",
            "Operation Complete for 2 GB\n",
            "Operation Complete for 3 GB\n",
            "Operation Complete for 4 GB\n",
            "Operation Complete for 5 GB\n"
          ]
        }
      ],
      "source": [
        "import random as r\n",
        "import string as s\n",
        "import os\n",
        "import base64\n",
        "\n",
        "def GenerateRandomString(stringSize):\n",
        "  randomBytes = os.urandom(stringSize)\n",
        "  return base64.b64encode(randomBytes).decode('utf-8')\n",
        "\n",
        "if __name__ == '__main__':\n",
        "  fileSizes = [1, 2, 3, 4, 5]\n",
        "\n",
        "  os.makedirs('Input', exist_ok = True) #This creates a Directory named 'Input'\n",
        "\n",
        "  for i in fileSizes:\n",
        "    fileSizeMB = i * 1024\n",
        "    bytesTotal = fileSizeMB * 1024 * 1024\n",
        "    chunkSize = 10 * 1024 * 1024 #10 MB Chunk Size\n",
        "    bytesWritten = 0\n",
        "\n",
        "    filePath = os.path.join('Input' , f'randomStrings{i}GB.txt')\n",
        "\n",
        "    with open(filePath, 'w') as file:\n",
        "      while bytesWritten < bytesTotal:\n",
        "        remainingBytes = bytesTotal - bytesWritten\n",
        "        currentChunkSize = min(chunkSize, remainingBytes)\n",
        "        randomChunk = GenerateRandomString(currentChunkSize)\n",
        "        file.write(randomChunk)\n",
        "        bytesWritten += len(randomChunk.encode('utf-8'))\n",
        "\n",
        "    print(f'Operation Complete for {i} GB')\n"
      ]
    },
    {
      "cell_type": "code",
      "execution_count": null,
      "metadata": {
        "colab": {
          "base_uri": "https://localhost:8080/"
        },
        "id": "AEDLpiENQZiv",
        "outputId": "c3437557-5350-4b2c-d4c5-aa090e35999e"
      },
      "outputs": [
        {
          "name": "stdout",
          "output_type": "stream",
          "text": [
            "Input/randomStrings5GB.txt\n"
          ]
        }
      ],
      "source": [
        "print (filePath)"
      ]
    },
    {
      "cell_type": "code",
      "execution_count": null,
      "metadata": {
        "colab": {
          "base_uri": "https://localhost:8080/",
          "height": 35
        },
        "id": "QGym1inIPVdq",
        "outputId": "6ec0d736-bfe3-4158-b8a2-6ee2b96896b4"
      },
      "outputs": [
        {
          "data": {
            "application/vnd.google.colaboratory.intrinsic+json": {
              "type": "string"
            },
            "text/plain": [
              "'/content'"
            ]
          },
          "execution_count": 4,
          "metadata": {},
          "output_type": "execute_result"
        }
      ],
      "source": [
        "import os\n",
        "os.getcwd()"
      ]
    },
    {
      "cell_type": "markdown",
      "metadata": {
        "id": "AZ4eTLNHxXMW"
      },
      "source": [
        "### 5. Convert all the files of Q4 into upper case one by one."
      ]
    },
    {
      "cell_type": "code",
      "execution_count": null,
      "metadata": {
        "id": "tMelsugRxme7"
      },
      "outputs": [],
      "source": [
        "import os\n",
        "\n",
        "def convertToUpperCase(inputDirectory, outputDirectory):\n",
        "  os.makedirs(outputDirectory, exist_ok = True)\n",
        "\n",
        "  for fileName in os.listdir(inputDirectory):\n",
        "    inputFilePath = os.path.join(inputDirectory, fileName)\n",
        "    outputFilePath = os.path.join(outputDirectory, 'Uppercase '+fileName)\n",
        "\n",
        "    with open(inputFilePath, 'r') as inputFile:\n",
        "      with open(outputFilePath, 'w') as outputFile:\n",
        "        for line in inputFile:\n",
        "          outputFile.write(line.upper())\n",
        "\n",
        "    print(f'Conversion of {fileName} Successful')\n",
        "\n",
        "if __name__ == '__main__':\n",
        "  convertToUpperCase('Input', 'Output')\n",
        "\n"
      ]
    },
    {
      "cell_type": "markdown",
      "metadata": {
        "id": "2vxNtVp3346T"
      },
      "source": [
        "### 6. Convert all the files of Q4 into upper case parallel using multi-threading"
      ]
    },
    {
      "cell_type": "code",
      "execution_count": null,
      "metadata": {
        "id": "pluX676JiEP3"
      },
      "outputs": [],
      "source": [
        "import os\n",
        "import concurrent.futures\n",
        "\n",
        "def convertFileToUpperCase(inputFileName, outputFileName):\n",
        "  try:\n",
        "\n",
        "    with open(inputFileName, 'r', encoding='utf-8') as inputFile:\n",
        "        with open(outputFileName, 'w', encoding='utf-8') as outputFile:\n",
        "          for line in inputFile:\n",
        "            outputFile.write(line.upper())\n",
        "\n",
        "            print(f'Conversion of {inputFileName} Successful')\n",
        "\n",
        "  except Exception as e:\n",
        "    print(f'Conversion of {inputFileName} Failed : {e}')\n",
        "\n",
        "def convertToUpperCase(inputDirectory, outputDirectory):\n",
        "  os.makedirs(outputDirectory, exist_ok = True)\n",
        "\n",
        "  with concurrent.futures.ThreadPoolExecutor() as executor:\n",
        "    for fileName in os.listdir(inputDirectory):\n",
        "          inputFilePath = os.path.join(inputDirectory, fileName)\n",
        "          outputFilePath = os.path.join(outputDirectory, 'Uppercase '+fileName)\n",
        "          executor.submit(convertFileToUpperCase, inputFilePath, outputFilePath)\n",
        "\n",
        "if __name__ == '__main__':\n",
        "  convertToUpperCase('Input', 'Output')\n",
        "  print(\"Operation Complete\")\n"
      ]
    },
    {
      "cell_type": "markdown",
      "metadata": {
        "id": "i7QPK5VyS4uF"
      },
      "source": [
        "### 7. To automatically download 10 images of cat from “Google Images”."
      ]
    },
    {
      "cell_type": "code",
      "execution_count": null,
      "metadata": {
        "id": "JIpynhhOS_5t",
        "colab": {
          "base_uri": "https://localhost:8080/",
          "height": 156
        },
        "outputId": "8da1e08b-0179-4b28-f0b6-38211b6ef725"
      },
      "outputs": [
        {
          "output_type": "stream",
          "name": "stdout",
          "text": [
            "Enter Keyword : Cat\n",
            "Enter Number : 10\n",
            "Enter Subfolder : CAT\n",
            "GCS Developer Key and CX not set\n",
            "Search Completed\n",
            "Downloading Complete\n",
            "Convert to Zip and Download? Yes or No : yES\n",
            "Zip File CAT Created\n"
          ]
        },
        {
          "output_type": "display_data",
          "data": {
            "text/plain": [
              "<IPython.core.display.Javascript object>"
            ],
            "application/javascript": [
              "\n",
              "    async function download(id, filename, size) {\n",
              "      if (!google.colab.kernel.accessAllowed) {\n",
              "        return;\n",
              "      }\n",
              "      const div = document.createElement('div');\n",
              "      const label = document.createElement('label');\n",
              "      label.textContent = `Downloading \"${filename}\": `;\n",
              "      div.appendChild(label);\n",
              "      const progress = document.createElement('progress');\n",
              "      progress.max = size;\n",
              "      div.appendChild(progress);\n",
              "      document.body.appendChild(div);\n",
              "\n",
              "      const buffers = [];\n",
              "      let downloaded = 0;\n",
              "\n",
              "      const channel = await google.colab.kernel.comms.open(id);\n",
              "      // Send a message to notify the kernel that we're ready.\n",
              "      channel.send({})\n",
              "\n",
              "      for await (const message of channel.messages) {\n",
              "        // Send a message to notify the kernel that we're ready.\n",
              "        channel.send({})\n",
              "        if (message.buffers) {\n",
              "          for (const buffer of message.buffers) {\n",
              "            buffers.push(buffer);\n",
              "            downloaded += buffer.byteLength;\n",
              "            progress.value = downloaded;\n",
              "          }\n",
              "        }\n",
              "      }\n",
              "      const blob = new Blob(buffers, {type: 'application/binary'});\n",
              "      const a = document.createElement('a');\n",
              "      a.href = window.URL.createObjectURL(blob);\n",
              "      a.download = filename;\n",
              "      div.appendChild(a);\n",
              "      a.click();\n",
              "      div.remove();\n",
              "    }\n",
              "  "
            ]
          },
          "metadata": {}
        },
        {
          "output_type": "display_data",
          "data": {
            "text/plain": [
              "<IPython.core.display.Javascript object>"
            ],
            "application/javascript": [
              "download(\"download_d679c357-abf1-4eb6-9823-aef9970e3912\", \"CAT.zip\", 35100668)"
            ]
          },
          "metadata": {}
        }
      ],
      "source": [
        "!pip install google_images_search &>/dev/NULL\n",
        "\n",
        "from google_images_search import GoogleImagesSearch\n",
        "import shutil\n",
        "from google.colab import files\n",
        "import os\n",
        "\n",
        "os.environ['GCS_DEVELOPER_KEY'] = 'your_api_key_here'\n",
        "os.environ['GCS_CX'] = 'your_cx_here'\n",
        "\n",
        "def Search(Keyword, Number, Subfolder):\n",
        "\n",
        "  os.makedirs(f'Images/{Subfolder}', exist_ok = True)\n",
        "\n",
        "  apiKey = os.getenv('GCS_Developer_Key')\n",
        "  cx = os.getenv('CX')\n",
        "\n",
        "  gis = GoogleImagesSearch(apiKey, cx, validate_images = True)\n",
        "  if not apiKey or not cx:\n",
        "    print('GCS Developer Key and CX not set')\n",
        "\n",
        "  _search_params = {\n",
        "      'q' : Keyword,\n",
        "      'num' : Number\n",
        "  }\n",
        "  gis.search(search_params = _search_params, path_to_dir=f'Images/{Subfolder}')\n",
        "  print('Search Completed')\n",
        "\n",
        "if __name__ == '__main__':\n",
        "  Keyword = input('Enter Keyword : ')\n",
        "  Number = int(input('Enter Number : '))\n",
        "  Subfolder = input('Enter Subfolder : ')\n",
        "  Search(Keyword, Number, Subfolder)\n",
        "  print('Downloading Complete')\n",
        "\n",
        "  Choice = input(\"Convert to Zip and Download? Yes or No : \").lower()\n",
        "\n",
        "  if Choice in ['yes', 'y']:\n",
        "    shutil.make_archive(f'Images/{Subfolder}', 'zip', f'Images/{Subfolder}')\n",
        "    print(f'Zip File {Subfolder} Created')\n",
        "\n",
        "    files.download(f'Images/{Subfolder}.zip')\n",
        "\n",
        "  else:\n",
        "    print('Zip File Skipped')"
      ]
    },
    {
      "cell_type": "markdown",
      "source": [
        "### 8. To automatically download 10 videos of “Machine Learning” from “Youtube.com”."
      ],
      "metadata": {
        "id": "TFpK0pjX5LN4"
      }
    },
    {
      "cell_type": "code",
      "source": [
        "!pip install pytube &>/dev/NULL\n",
        "\n",
        "from googleapiclient.discovery import build\n",
        "from pytube import YouTube\n",
        "import os\n",
        "import shutil\n",
        "from google.colab import files\n",
        "\n",
        "os.environ['YouTube_API_Key'] = 'your_api_key_here'\n",
        "\n",
        "def Search(Keyword, Number):\n",
        "  api_key = os.getenv('YouTube_API_Key')\n",
        "  if not api_key:\n",
        "    raise ValueError('No API key found. Please set YouTube API Key')\n",
        "\n",
        "  youtube = build('youtube', 'v3', developerKey = api_key)\n",
        "  searchResponse = youtube.search().list(\n",
        "      q = Keyword,\n",
        "      part = 'id, snippet',\n",
        "      maxResults = Number,\n",
        "      type = 'video'\n",
        "  ).execute()\n",
        "\n",
        "  videoURLs = []\n",
        "  for searchResult in searchResponse.get('items', []):\n",
        "    videoID = searchResult['id']['videoId']\n",
        "    videoURL = f'https://www.youtube.com/watch?v={videoID}'\n",
        "    videoURLs.append(videoURL)\n",
        "\n",
        "  return videoURLs\n",
        "\n",
        "def Download(videoURL, Subfolder):\n",
        "  outputPath = f'Media/Videos/{Subfolder}'\n",
        "  os.makedirs(outputPath, exist_ok = True)\n",
        "  yt = YouTube(videoURL)\n",
        "  maxRetries = 3\n",
        "  for attempt in range(1, maxRetries + 1):\n",
        "    try:\n",
        "      stream = yt.streams.filter(progressive = True, file_extension = 'mp4').order_by('resolution').desc().first()\n",
        "      if stream:\n",
        "        print(f'Downloading {yt.title}')\n",
        "        stream.download(outputPath)\n",
        "        print(f'Download Complete for {yt.title}')\n",
        "        break\n",
        "      else:\n",
        "        print(f'No suitable streams found for {yt.title}')\n",
        "\n",
        "    except Exception as e:\n",
        "      print(f'Download Failed for {yt.title} : {e}')\n",
        "      if attempt < maxRetries:\n",
        "        print(f'Retrying Download ...')\n",
        "      else:\n",
        "        print(f'Failed to download {yt.title} after {maxRetries} attempts.')\n",
        "\n",
        "if __name__ == '__main__':\n",
        "  Keyword = input('Enter Keyword: ')\n",
        "  Number = int(input('Enter Number of Videos: '))\n",
        "  Subfolder = input('Enter Subfolder: ')\n",
        "\n",
        "  videoURLs = Search(Keyword, Number)\n",
        "\n",
        "  for videoURL in videoURLs:\n",
        "    Download(videoURL, Subfolder)\n",
        "\n",
        "  print('All Downloads Complete')\n",
        "\n",
        "  Choice = input(\"Convert to Zip and Download to system? Yes or No : \").lower()\n",
        "  if Choice in ['yes', 'y', 'yeah', 'sure']:\n",
        "    shutil.make_archive(f'Media/Videos/{Subfolder}', 'zip', f'Media/Videos/{Subfolder}')\n",
        "    print(f'Zip File {Subfolder}.zip Created')\n",
        "    files.download(f'Media/Videos/{Subfolder}.zip')\n",
        "  else:\n",
        "    print('Zip File Skipped')"
      ],
      "metadata": {
        "id": "8ynwuyAM5KVM",
        "colab": {
          "base_uri": "https://localhost:8080/",
          "height": 627
        },
        "outputId": "d3b63b8d-0de8-4bdf-cd8d-1316d8df0d8c"
      },
      "execution_count": null,
      "outputs": [
        {
          "output_type": "stream",
          "name": "stdout",
          "text": [
            "Enter Keyword: Machine Learning\n",
            "Enter Number of Videos: 10\n",
            "Enter Subfolder: Machine Learning\n",
            "Downloading AI vs Machine Learning\n",
            "Download Complete for AI vs Machine Learning\n",
            "Downloading Machine Learning | What Is Machine Learning? | Introduction To Machine Learning | 2024 | Simplilearn\n",
            "Download Complete for Machine Learning | What Is Machine Learning? | Introduction To Machine Learning | 2024 | Simplilearn\n",
            "Downloading Machine Learning Explained in 100 Seconds\n",
            "Download Complete for Machine Learning Explained in 100 Seconds\n",
            "Downloading What is Machine Learning?\n",
            "Download Complete for What is Machine Learning?\n",
            "Downloading Machine Learning for Everybody – Full Course\n",
            "Download Failed for Machine Learning for Everybody – Full Course : IncompleteRead(6925057 bytes read, 2512127 more expected)\n",
            "Retrying Download ...\n",
            "Downloading Machine Learning for Everybody – Full Course\n",
            "Download Failed for Machine Learning for Everybody – Full Course : IncompleteRead(6925057 bytes read, 2512127 more expected)\n",
            "Retrying Download ...\n",
            "Downloading Machine Learning for Everybody – Full Course\n",
            "Download Failed for Machine Learning for Everybody – Full Course : IncompleteRead(6925057 bytes read, 2512127 more expected)\n",
            "Failed to download Machine Learning for Everybody – Full Course after 3 attempts.\n",
            "Downloading Python Machine Learning Tutorial (Data Science)\n",
            "Download Complete for Python Machine Learning Tutorial (Data Science)\n",
            "Downloading Machine Learning vs Deep Learning\n",
            "Download Complete for Machine Learning vs Deep Learning\n",
            "Downloading 11. Introduction to Machine Learning\n",
            "Download Complete for 11. Introduction to Machine Learning\n",
            "Downloading Bias vs Variance: The Tug-of-War in Machine Learning Explained #ai #ml #shorts #ytshorts #short\n",
            "Download Complete for Bias vs Variance: The Tug-of-War in Machine Learning Explained #ai #ml #shorts #ytshorts #short\n",
            "Downloading Machine Learning & Artificial Intelligence: Crash Course Computer Science #34\n",
            "Download Complete for Machine Learning & Artificial Intelligence: Crash Course Computer Science #34\n",
            "All Downloads Complete\n",
            "Convert to Zip and Download to system? Yes or No : sure\n",
            "Zip File Machine Learning.zip Created\n"
          ]
        },
        {
          "output_type": "display_data",
          "data": {
            "text/plain": [
              "<IPython.core.display.Javascript object>"
            ],
            "application/javascript": [
              "\n",
              "    async function download(id, filename, size) {\n",
              "      if (!google.colab.kernel.accessAllowed) {\n",
              "        return;\n",
              "      }\n",
              "      const div = document.createElement('div');\n",
              "      const label = document.createElement('label');\n",
              "      label.textContent = `Downloading \"${filename}\": `;\n",
              "      div.appendChild(label);\n",
              "      const progress = document.createElement('progress');\n",
              "      progress.max = size;\n",
              "      div.appendChild(progress);\n",
              "      document.body.appendChild(div);\n",
              "\n",
              "      const buffers = [];\n",
              "      let downloaded = 0;\n",
              "\n",
              "      const channel = await google.colab.kernel.comms.open(id);\n",
              "      // Send a message to notify the kernel that we're ready.\n",
              "      channel.send({})\n",
              "\n",
              "      for await (const message of channel.messages) {\n",
              "        // Send a message to notify the kernel that we're ready.\n",
              "        channel.send({})\n",
              "        if (message.buffers) {\n",
              "          for (const buffer of message.buffers) {\n",
              "            buffers.push(buffer);\n",
              "            downloaded += buffer.byteLength;\n",
              "            progress.value = downloaded;\n",
              "          }\n",
              "        }\n",
              "      }\n",
              "      const blob = new Blob(buffers, {type: 'application/binary'});\n",
              "      const a = document.createElement('a');\n",
              "      a.href = window.URL.createObjectURL(blob);\n",
              "      a.download = filename;\n",
              "      div.appendChild(a);\n",
              "      a.click();\n",
              "      div.remove();\n",
              "    }\n",
              "  "
            ]
          },
          "metadata": {}
        },
        {
          "output_type": "display_data",
          "data": {
            "text/plain": [
              "<IPython.core.display.Javascript object>"
            ],
            "application/javascript": [
              "download(\"download_c26b078c-186b-4d74-aaa3-39d961e071ae\", \"Machine Learning.zip\", 218530622)"
            ]
          },
          "metadata": {}
        }
      ]
    },
    {
      "cell_type": "markdown",
      "source": [
        "### 9. Convert all the downloaded YouTube videos and convert them to audio."
      ],
      "metadata": {
        "id": "nyQC4fl5TzHP"
      }
    },
    {
      "cell_type": "code",
      "source": [
        "!pip install pytube moviepy &>/dev/NULL\n",
        "\n",
        "from googleapiclient.discovery import build\n",
        "from pytube import YouTube\n",
        "from moviepy.editor import VideoFileClip\n",
        "import os\n",
        "import shutil\n",
        "from google.colab import files\n",
        "\n",
        "os.environ['YouTube_API_Key'] = 'your_api_key_here'\n",
        "\n",
        "def Search(Keyword, Number):\n",
        "  api_key = os.getenv('YouTube_API_Key')\n",
        "  if not api_key:\n",
        "    raise ValueError('No API key found. Please set YouTube API Key')\n",
        "\n",
        "  youtube = build('youtube', 'v3', developerKey = api_key)\n",
        "  searchResponse = youtube.search().list(\n",
        "      q = Keyword,\n",
        "      part = 'id, snippet',\n",
        "      maxResults = Number,\n",
        "      type = 'video'\n",
        "  ).execute()\n",
        "\n",
        "  videoURLs = []\n",
        "  for searchResult in searchResponse.get('items', []):\n",
        "    videoID = searchResult['id']['videoId']\n",
        "    videoURL = f'https://www.youtube.com/watch?v={videoID}'\n",
        "    videoURLs.append(videoURL)\n",
        "\n",
        "  return videoURLs\n",
        "\n",
        "def DownloadAndConvert(videoURL, Subfolder):\n",
        "  outputPath = f'Media/Audios/{Subfolder}'\n",
        "  os.makedirs(outputPath, exist_ok = True)\n",
        "  yt = YouTube(videoURL)\n",
        "  maxRetries = 3\n",
        "  for attempt in range(1, maxRetries + 1):\n",
        "    try:\n",
        "      stream = yt.streams.filter(progressive = True, file_extension = 'mp4').order_by('resolution').desc().first()\n",
        "      if stream:\n",
        "        print(f'Downloading {yt.title}')\n",
        "        stream.download(outputPath)\n",
        "        print(f'Download Complete for {yt.title}')\n",
        "\n",
        "        videoPath = os.path.join(outputPath, yt.title + '.mp4')\n",
        "        audioPath = os.path.join(outputPath, yt.title + '.mp3')\n",
        "\n",
        "        videoClip = VideoFileClip(videoPath)\n",
        "        audioClip = videoClip.audio\n",
        "        audioClip.write_audiofile(audioPath)\n",
        "\n",
        "        audioClip.close()\n",
        "        videoClip.close()\n",
        "\n",
        "        os.remove(videoPath)\n",
        "\n",
        "        print(f'Audio Conversion Complete for {yt.title}')\n",
        "\n",
        "      else:\n",
        "        print(f'No suitable streams found for {yt.title}')\n",
        "\n",
        "    except Exception as e:\n",
        "      print(f'Download Failed for {yt.title} : {e}')\n",
        "      if attempt < maxRetries:\n",
        "        print(f'Retrying Download ...')\n",
        "      else:\n",
        "        print(f'Failed to download {yt.title} after {maxRetries} attempts.')\n",
        "\n",
        "if __name__ == '__main__':\n",
        "  Keyword = input('Enter Keyword: ')\n",
        "  Number = int(input('Enter the Number of Videos to convert to Audio: '))\n",
        "  Subfolder = input('Enter Subfolder: ')\n",
        "\n",
        "  videoURLs = Search(Keyword, Number)\n",
        "\n",
        "  for videoURL in videoURLs:\n",
        "    DownloadAndConvert(videoURL, Subfolder)\n",
        "\n",
        "  print('All Downloads Complete')\n",
        "\n",
        "  Choice = input(\"Convert to Zip and Download to system? Yes or No : \").lower()\n",
        "  if Choice in ['yes', 'y', 'yeah', 'sure']:\n",
        "    shutil.make_archive(f'Media/Audios/{Subfolder}', 'zip', f'Media/Audios/{Subfolder}')\n",
        "    print(f'Zip File {Subfolder}.zip Created')\n",
        "    files.download(f'Media/Audios/{Subfolder}.zip')\n",
        "  else:\n",
        "    print('Zip File Skipped')"
      ],
      "metadata": {
        "colab": {
          "base_uri": "https://localhost:8080/",
          "height": 1000
        },
        "id": "jD1WRUluJvhr",
        "outputId": "9dc8a514-194c-4101-c649-f0f43cb88ad2"
      },
      "execution_count": null,
      "outputs": [
        {
          "output_type": "stream",
          "name": "stdout",
          "text": [
            "Enter Keyword: Machine Learning\n",
            "Enter the Number of Videos to convert to Audio: 10\n",
            "Enter Subfolder: Machine Learning\n",
            "Downloading AI vs Machine Learning\n",
            "Download Complete for AI vs Machine Learning\n",
            "MoviePy - Writing audio in Media/Audios/Machine Learning/AI vs Machine Learning.mp3\n"
          ]
        },
        {
          "output_type": "stream",
          "name": "stderr",
          "text": []
        },
        {
          "output_type": "stream",
          "name": "stdout",
          "text": [
            "MoviePy - Done.\n",
            "Audio Conversion Complete for AI vs Machine Learning\n",
            "Downloading AI vs Machine Learning\n",
            "Download Complete for AI vs Machine Learning\n",
            "MoviePy - Writing audio in Media/Audios/Machine Learning/AI vs Machine Learning.mp3\n"
          ]
        },
        {
          "output_type": "stream",
          "name": "stderr",
          "text": []
        },
        {
          "output_type": "stream",
          "name": "stdout",
          "text": [
            "MoviePy - Done.\n",
            "Audio Conversion Complete for AI vs Machine Learning\n",
            "Downloading AI vs Machine Learning\n",
            "Download Complete for AI vs Machine Learning\n",
            "MoviePy - Writing audio in Media/Audios/Machine Learning/AI vs Machine Learning.mp3\n"
          ]
        },
        {
          "output_type": "stream",
          "name": "stderr",
          "text": []
        },
        {
          "output_type": "stream",
          "name": "stdout",
          "text": [
            "MoviePy - Done.\n",
            "Audio Conversion Complete for AI vs Machine Learning\n",
            "Downloading Machine Learning | What Is Machine Learning? | Introduction To Machine Learning | 2024 | Simplilearn\n",
            "Download Complete for Machine Learning | What Is Machine Learning? | Introduction To Machine Learning | 2024 | Simplilearn\n",
            "Download Failed for Machine Learning | What Is Machine Learning? | Introduction To Machine Learning | 2024 | Simplilearn : MoviePy error: the file Media/Audios/Machine Learning/Machine Learning | What Is Machine Learning? | Introduction To Machine Learning | 2024 | Simplilearn.mp4 could not be found!\n",
            "Please check that you entered the correct path.\n",
            "Retrying Download ...\n",
            "Downloading Machine Learning | What Is Machine Learning? | Introduction To Machine Learning | 2024 | Simplilearn\n",
            "Download Complete for Machine Learning | What Is Machine Learning? | Introduction To Machine Learning | 2024 | Simplilearn\n",
            "Download Failed for Machine Learning | What Is Machine Learning? | Introduction To Machine Learning | 2024 | Simplilearn : MoviePy error: the file Media/Audios/Machine Learning/Machine Learning | What Is Machine Learning? | Introduction To Machine Learning | 2024 | Simplilearn.mp4 could not be found!\n",
            "Please check that you entered the correct path.\n",
            "Retrying Download ...\n",
            "Downloading Machine Learning | What Is Machine Learning? | Introduction To Machine Learning | 2024 | Simplilearn\n",
            "Download Complete for Machine Learning | What Is Machine Learning? | Introduction To Machine Learning | 2024 | Simplilearn\n",
            "Download Failed for Machine Learning | What Is Machine Learning? | Introduction To Machine Learning | 2024 | Simplilearn : MoviePy error: the file Media/Audios/Machine Learning/Machine Learning | What Is Machine Learning? | Introduction To Machine Learning | 2024 | Simplilearn.mp4 could not be found!\n",
            "Please check that you entered the correct path.\n",
            "Failed to download Machine Learning | What Is Machine Learning? | Introduction To Machine Learning | 2024 | Simplilearn after 3 attempts.\n",
            "Downloading Machine Learning Explained in 100 Seconds\n",
            "Download Complete for Machine Learning Explained in 100 Seconds\n",
            "MoviePy - Writing audio in Media/Audios/Machine Learning/Machine Learning Explained in 100 Seconds.mp3\n"
          ]
        },
        {
          "output_type": "stream",
          "name": "stderr",
          "text": []
        },
        {
          "output_type": "stream",
          "name": "stdout",
          "text": [
            "MoviePy - Done.\n",
            "Audio Conversion Complete for Machine Learning Explained in 100 Seconds\n",
            "Downloading Machine Learning Explained in 100 Seconds\n",
            "Download Complete for Machine Learning Explained in 100 Seconds\n",
            "MoviePy - Writing audio in Media/Audios/Machine Learning/Machine Learning Explained in 100 Seconds.mp3\n"
          ]
        },
        {
          "output_type": "stream",
          "name": "stderr",
          "text": []
        },
        {
          "output_type": "stream",
          "name": "stdout",
          "text": [
            "MoviePy - Done.\n",
            "Audio Conversion Complete for Machine Learning Explained in 100 Seconds\n",
            "Downloading Machine Learning Explained in 100 Seconds\n",
            "Download Complete for Machine Learning Explained in 100 Seconds\n",
            "MoviePy - Writing audio in Media/Audios/Machine Learning/Machine Learning Explained in 100 Seconds.mp3\n"
          ]
        },
        {
          "output_type": "stream",
          "name": "stderr",
          "text": []
        },
        {
          "output_type": "stream",
          "name": "stdout",
          "text": [
            "MoviePy - Done.\n",
            "Audio Conversion Complete for Machine Learning Explained in 100 Seconds\n",
            "Downloading What is Machine Learning?\n",
            "Download Complete for What is Machine Learning?\n",
            "Download Failed for What is Machine Learning? : MoviePy error: the file Media/Audios/Machine Learning/What is Machine Learning?.mp4 could not be found!\n",
            "Please check that you entered the correct path.\n",
            "Retrying Download ...\n",
            "Downloading What is Machine Learning?\n",
            "Download Complete for What is Machine Learning?\n",
            "Download Failed for What is Machine Learning? : MoviePy error: the file Media/Audios/Machine Learning/What is Machine Learning?.mp4 could not be found!\n",
            "Please check that you entered the correct path.\n",
            "Retrying Download ...\n",
            "Downloading What is Machine Learning?\n",
            "Download Complete for What is Machine Learning?\n",
            "Download Failed for What is Machine Learning? : MoviePy error: the file Media/Audios/Machine Learning/What is Machine Learning?.mp4 could not be found!\n",
            "Please check that you entered the correct path.\n",
            "Failed to download What is Machine Learning? after 3 attempts.\n",
            "Downloading Machine Learning for Everybody – Full Course\n",
            "Download Failed for Machine Learning for Everybody – Full Course : IncompleteRead(6925057 bytes read, 2512127 more expected)\n",
            "Retrying Download ...\n",
            "Downloading Machine Learning for Everybody – Full Course\n",
            "Download Failed for Machine Learning for Everybody – Full Course : IncompleteRead(6925057 bytes read, 2512127 more expected)\n",
            "Retrying Download ...\n",
            "Downloading Machine Learning for Everybody – Full Course\n",
            "Download Failed for Machine Learning for Everybody – Full Course : IncompleteRead(6925057 bytes read, 2512127 more expected)\n",
            "Failed to download Machine Learning for Everybody – Full Course after 3 attempts.\n",
            "Downloading Python Machine Learning Tutorial (Data Science)\n",
            "Download Complete for Python Machine Learning Tutorial (Data Science)\n",
            "MoviePy - Writing audio in Media/Audios/Machine Learning/Python Machine Learning Tutorial (Data Science).mp3\n"
          ]
        },
        {
          "output_type": "stream",
          "name": "stderr",
          "text": []
        },
        {
          "output_type": "stream",
          "name": "stdout",
          "text": [
            "MoviePy - Done.\n",
            "Audio Conversion Complete for Python Machine Learning Tutorial (Data Science)\n",
            "Downloading Python Machine Learning Tutorial (Data Science)\n",
            "Download Complete for Python Machine Learning Tutorial (Data Science)\n",
            "MoviePy - Writing audio in Media/Audios/Machine Learning/Python Machine Learning Tutorial (Data Science).mp3\n"
          ]
        },
        {
          "output_type": "stream",
          "name": "stderr",
          "text": []
        },
        {
          "output_type": "stream",
          "name": "stdout",
          "text": [
            "MoviePy - Done.\n",
            "Audio Conversion Complete for Python Machine Learning Tutorial (Data Science)\n",
            "Downloading Python Machine Learning Tutorial (Data Science)\n",
            "Download Complete for Python Machine Learning Tutorial (Data Science)\n",
            "MoviePy - Writing audio in Media/Audios/Machine Learning/Python Machine Learning Tutorial (Data Science).mp3\n"
          ]
        },
        {
          "output_type": "stream",
          "name": "stderr",
          "text": []
        },
        {
          "output_type": "stream",
          "name": "stdout",
          "text": [
            "MoviePy - Done.\n",
            "Audio Conversion Complete for Python Machine Learning Tutorial (Data Science)\n",
            "Downloading Machine Learning vs Deep Learning\n",
            "Download Complete for Machine Learning vs Deep Learning\n",
            "MoviePy - Writing audio in Media/Audios/Machine Learning/Machine Learning vs Deep Learning.mp3\n"
          ]
        },
        {
          "output_type": "stream",
          "name": "stderr",
          "text": []
        },
        {
          "output_type": "stream",
          "name": "stdout",
          "text": [
            "MoviePy - Done.\n",
            "Audio Conversion Complete for Machine Learning vs Deep Learning\n",
            "Downloading Machine Learning vs Deep Learning\n",
            "Download Complete for Machine Learning vs Deep Learning\n",
            "MoviePy - Writing audio in Media/Audios/Machine Learning/Machine Learning vs Deep Learning.mp3\n"
          ]
        },
        {
          "output_type": "stream",
          "name": "stderr",
          "text": []
        },
        {
          "output_type": "stream",
          "name": "stdout",
          "text": [
            "MoviePy - Done.\n",
            "Audio Conversion Complete for Machine Learning vs Deep Learning\n",
            "Downloading Machine Learning vs Deep Learning\n",
            "Download Complete for Machine Learning vs Deep Learning\n",
            "MoviePy - Writing audio in Media/Audios/Machine Learning/Machine Learning vs Deep Learning.mp3\n"
          ]
        },
        {
          "output_type": "stream",
          "name": "stderr",
          "text": []
        },
        {
          "output_type": "stream",
          "name": "stdout",
          "text": [
            "MoviePy - Done.\n",
            "Audio Conversion Complete for Machine Learning vs Deep Learning\n",
            "Downloading 11. Introduction to Machine Learning\n",
            "Download Complete for 11. Introduction to Machine Learning\n",
            "Download Failed for 11. Introduction to Machine Learning : MoviePy error: the file Media/Audios/Machine Learning/11. Introduction to Machine Learning.mp4 could not be found!\n",
            "Please check that you entered the correct path.\n",
            "Retrying Download ...\n",
            "Downloading 11. Introduction to Machine Learning\n",
            "Download Complete for 11. Introduction to Machine Learning\n",
            "Download Failed for 11. Introduction to Machine Learning : MoviePy error: the file Media/Audios/Machine Learning/11. Introduction to Machine Learning.mp4 could not be found!\n",
            "Please check that you entered the correct path.\n",
            "Retrying Download ...\n",
            "Downloading 11. Introduction to Machine Learning\n",
            "Download Complete for 11. Introduction to Machine Learning\n",
            "Download Failed for 11. Introduction to Machine Learning : MoviePy error: the file Media/Audios/Machine Learning/11. Introduction to Machine Learning.mp4 could not be found!\n",
            "Please check that you entered the correct path.\n",
            "Failed to download 11. Introduction to Machine Learning after 3 attempts.\n",
            "Downloading Bias vs Variance: The Tug-of-War in Machine Learning Explained #ai #ml #shorts #ytshorts #short\n",
            "Download Complete for Bias vs Variance: The Tug-of-War in Machine Learning Explained #ai #ml #shorts #ytshorts #short\n",
            "Download Failed for Bias vs Variance: The Tug-of-War in Machine Learning Explained #ai #ml #shorts #ytshorts #short : MoviePy error: the file Media/Audios/Machine Learning/Bias vs Variance: The Tug-of-War in Machine Learning Explained #ai #ml #shorts #ytshorts #short.mp4 could not be found!\n",
            "Please check that you entered the correct path.\n",
            "Retrying Download ...\n",
            "Downloading Bias vs Variance: The Tug-of-War in Machine Learning Explained #ai #ml #shorts #ytshorts #short\n",
            "Download Complete for Bias vs Variance: The Tug-of-War in Machine Learning Explained #ai #ml #shorts #ytshorts #short\n",
            "Download Failed for Bias vs Variance: The Tug-of-War in Machine Learning Explained #ai #ml #shorts #ytshorts #short : MoviePy error: the file Media/Audios/Machine Learning/Bias vs Variance: The Tug-of-War in Machine Learning Explained #ai #ml #shorts #ytshorts #short.mp4 could not be found!\n",
            "Please check that you entered the correct path.\n",
            "Retrying Download ...\n",
            "Downloading Bias vs Variance: The Tug-of-War in Machine Learning Explained #ai #ml #shorts #ytshorts #short\n",
            "Download Complete for Bias vs Variance: The Tug-of-War in Machine Learning Explained #ai #ml #shorts #ytshorts #short\n",
            "Download Failed for Bias vs Variance: The Tug-of-War in Machine Learning Explained #ai #ml #shorts #ytshorts #short : MoviePy error: the file Media/Audios/Machine Learning/Bias vs Variance: The Tug-of-War in Machine Learning Explained #ai #ml #shorts #ytshorts #short.mp4 could not be found!\n",
            "Please check that you entered the correct path.\n",
            "Failed to download Bias vs Variance: The Tug-of-War in Machine Learning Explained #ai #ml #shorts #ytshorts #short after 3 attempts.\n",
            "Downloading Machine Learning & Artificial Intelligence: Crash Course Computer Science #34\n",
            "Download Complete for Machine Learning & Artificial Intelligence: Crash Course Computer Science #34\n",
            "Download Failed for Machine Learning & Artificial Intelligence: Crash Course Computer Science #34 : MoviePy error: the file Media/Audios/Machine Learning/Machine Learning & Artificial Intelligence: Crash Course Computer Science #34.mp4 could not be found!\n",
            "Please check that you entered the correct path.\n",
            "Retrying Download ...\n",
            "Downloading Machine Learning & Artificial Intelligence: Crash Course Computer Science #34\n",
            "Download Complete for Machine Learning & Artificial Intelligence: Crash Course Computer Science #34\n",
            "Download Failed for Machine Learning & Artificial Intelligence: Crash Course Computer Science #34 : MoviePy error: the file Media/Audios/Machine Learning/Machine Learning & Artificial Intelligence: Crash Course Computer Science #34.mp4 could not be found!\n",
            "Please check that you entered the correct path.\n",
            "Retrying Download ...\n",
            "Downloading Machine Learning & Artificial Intelligence: Crash Course Computer Science #34\n",
            "Download Complete for Machine Learning & Artificial Intelligence: Crash Course Computer Science #34\n",
            "Download Failed for Machine Learning & Artificial Intelligence: Crash Course Computer Science #34 : MoviePy error: the file Media/Audios/Machine Learning/Machine Learning & Artificial Intelligence: Crash Course Computer Science #34.mp4 could not be found!\n",
            "Please check that you entered the correct path.\n",
            "Failed to download Machine Learning & Artificial Intelligence: Crash Course Computer Science #34 after 3 attempts.\n",
            "All Downloads Complete\n",
            "Convert to Zip and Download to system? Yes or No : Yes\n",
            "Zip File Machine Learning.zip Created\n"
          ]
        },
        {
          "output_type": "display_data",
          "data": {
            "text/plain": [
              "<IPython.core.display.Javascript object>"
            ],
            "application/javascript": [
              "\n",
              "    async function download(id, filename, size) {\n",
              "      if (!google.colab.kernel.accessAllowed) {\n",
              "        return;\n",
              "      }\n",
              "      const div = document.createElement('div');\n",
              "      const label = document.createElement('label');\n",
              "      label.textContent = `Downloading \"${filename}\": `;\n",
              "      div.appendChild(label);\n",
              "      const progress = document.createElement('progress');\n",
              "      progress.max = size;\n",
              "      div.appendChild(progress);\n",
              "      document.body.appendChild(div);\n",
              "\n",
              "      const buffers = [];\n",
              "      let downloaded = 0;\n",
              "\n",
              "      const channel = await google.colab.kernel.comms.open(id);\n",
              "      // Send a message to notify the kernel that we're ready.\n",
              "      channel.send({})\n",
              "\n",
              "      for await (const message of channel.messages) {\n",
              "        // Send a message to notify the kernel that we're ready.\n",
              "        channel.send({})\n",
              "        if (message.buffers) {\n",
              "          for (const buffer of message.buffers) {\n",
              "            buffers.push(buffer);\n",
              "            downloaded += buffer.byteLength;\n",
              "            progress.value = downloaded;\n",
              "          }\n",
              "        }\n",
              "      }\n",
              "      const blob = new Blob(buffers, {type: 'application/binary'});\n",
              "      const a = document.createElement('a');\n",
              "      a.href = window.URL.createObjectURL(blob);\n",
              "      a.download = filename;\n",
              "      div.appendChild(a);\n",
              "      a.click();\n",
              "      div.remove();\n",
              "    }\n",
              "  "
            ]
          },
          "metadata": {}
        },
        {
          "output_type": "display_data",
          "data": {
            "text/plain": [
              "<IPython.core.display.Javascript object>"
            ],
            "application/javascript": [
              "download(\"download_96655938-4fef-4e6a-abbe-62164a8217ab\", \"Machine Learning.zip\", 218530622)"
            ]
          },
          "metadata": {}
        }
      ]
    },
    {
      "cell_type": "markdown",
      "source": [],
      "metadata": {
        "id": "b1fjHouIX2uk"
      }
    },
    {
      "cell_type": "markdown",
      "source": [
        "### 10. An automated pipeline using multi-threading for:  \n",
        "“Automatic Download of 100 Videos from YouTube” → “Convert it to Audio”."
      ],
      "metadata": {
        "id": "hPuP7zP2bjcS"
      }
    },
    {
      "cell_type": "code",
      "source": [
        "!pip install pytube moviepy tqdm &>/dev/null\n",
        "\n",
        "from googleapiclient.discovery import build\n",
        "from pytube import YouTube\n",
        "from moviepy.editor import VideoFileClip\n",
        "from concurrent.futures import ThreadPoolExecutor, as_completed\n",
        "import os\n",
        "import shutil\n",
        "from google.colab import files\n",
        "import logging\n",
        "import warnings\n",
        "from tqdm import tqdm\n",
        "\n",
        "logging.basicConfig(filename = 'VideoDownloads.log', Level = logging.INFO, format = '%(asctime)s - %(levelname)s - %(message)s')\n",
        "\n",
        "os.environ['YouTube_API_Key'] = 'your_api_key_here'\n",
        "\n",
        "def Search(Keyword, Number):\n",
        "  api_key = os.getenv('YouTube_API_Key')\n",
        "  if not api_key:\n",
        "    raise ValueError('No API key found. Please set YouTube API Key')\n",
        "\n",
        "  youtube = build('youtube', 'v3', developerKey = api_key)\n",
        "  searchResponse = youtube.search().list(\n",
        "      q = Keyword,\n",
        "      part = 'id, snippet',\n",
        "      maxResults = Number,\n",
        "      type = 'video'\n",
        "  ).execute()\n",
        "\n",
        "  videoURLs = []\n",
        "  for searchResult in searchResponse.get('items', []):\n",
        "    videoID = searchResult['id']['videoId']\n",
        "    videoURL = f'https://www.youtube.com/watch?v={videoID}'\n",
        "    videoURLs.append(videoURL)\n",
        "\n",
        "  return videoURLs\n",
        "\n",
        "def DownloadAndConvert(videoURL, Subfolder):\n",
        "  outputPath = f'Media/Audios/{Subfolder}'\n",
        "  os.makedirs(outputPath, exist_ok = True)\n",
        "  yt = YouTube(videoURL)\n",
        "\n",
        "  try:\n",
        "    stream = yt.streams.filter(progressive = True, file_extension = 'mp4').order_by('resolution').desc().first()\n",
        "    if stream:\n",
        "      logging.info(f'Downloading {yt.title}')\n",
        "      stream.download(outputPath)\n",
        "\n",
        "      videoPath = os.path.join(outputPath, yt.title + '.mp4')\n",
        "      audioPath = os.path.join(outputPath, yt.title + '.mp3')\n",
        "\n",
        "      with warnings.catch_warnings():\n",
        "        warnings.simplefilter(\"ignore\")\n",
        "\n",
        "        videoClip = VideoFileClip(videoPath)\n",
        "        audioClip = videoClip.audio\n",
        "        audioClip.write_audiofile(audioPath)\n",
        "\n",
        "      audioClip.close()\n",
        "      videoClip.close()\n",
        "\n",
        "      os.remove(videoPath)\n",
        "      logging.info(f'Audio Conversion Complete for {yt.title}')\n",
        "\n",
        "    else:\n",
        "      logging.warning(f'No suitable streams found for {yt.title}')\n",
        "\n",
        "  except Exception as e:\n",
        "    logging.error(f'Download Failed for {yt.title} : {e}')\n",
        "\n",
        "if __name__ == '__main__':\n",
        "  Keyword = input('Enter Keyword: ')\n",
        "  Number = int(input('Enter the Number of Videos to convert to Audio: '))\n",
        "  Subfolder = input('Enter Subfolder: ')\n",
        "\n",
        "  videoURLs = Search(Keyword, Number)\n",
        "\n",
        "  with ThreadPoolExecutor(max_workers = 5) as executor:\n",
        "    futures = [executor.submit(DownloadAndConvert, videoURL, Subfolder) for videoURL in videoURLs]\n",
        "    for future in tqdm(as_completed(futures), total=len(futures), desc=\"Processing videos\"):\n",
        "      try:\n",
        "        future.result()\n",
        "      except Exception as e:\n",
        "        logging.error(f'Error Occured while processing task : {e}')\n",
        "\n",
        "\n",
        "  logging.info('All Downloads and Conversions Complete')\n",
        "\n",
        "  Choice = input(\"Convert to Zip and Download to system? Yes or No : \").lower()\n",
        "  if Choice in ['yes', 'y', 'yeah', 'sure']:\n",
        "    shutil.make_archive(f'Media/Audios/{Subfolder}', 'zip', f'Media/Audios/{Subfolder}')\n",
        "    logging.info(f'Zip File {Subfolder}.zip Created')\n",
        "    files.download(f'Media/Audios/{Subfolder}.zip')\n",
        "  else:\n",
        "    logging.info('Zip File Skipped')"
      ],
      "metadata": {
        "colab": {
          "base_uri": "https://localhost:8080/",
          "height": 1000
        },
        "id": "E_TU5t-idCs9",
        "outputId": "d14efb4e-071e-4da0-90cb-838cc9530e6f"
      },
      "execution_count": null,
      "outputs": [
        {
          "name": "stdout",
          "output_type": "stream",
          "text": [
            "Enter Keyword: Machine Learning\n",
            "Enter the Number of Videos to convert to Audio: 10\n",
            "Enter Subfolder: Machine Learning\n"
          ]
        },
        {
          "output_type": "stream",
          "name": "stderr",
          "text": [
            "\rProcessing videos:   0%|          | 0/10 [00:00<?, ?it/s]ERROR:root:Download Failed for What is Machine Learning? : MoviePy error: the file Media/Audios/Machine Learning/What is Machine Learning?.mp4 could not be found!\n",
            "Please check that you entered the correct path.\n",
            "Processing videos:  10%|█         | 1/10 [00:04<00:44,  4.94s/it]ERROR:root:Download Failed for Machine Learning | What Is Machine Learning? | Introduction To Machine Learning | 2024 | Simplilearn : MoviePy error: the file Media/Audios/Machine Learning/Machine Learning | What Is Machine Learning? | Introduction To Machine Learning | 2024 | Simplilearn.mp4 could not be found!\n",
            "Please check that you entered the correct path.\n",
            "Processing videos:  20%|██        | 2/10 [00:05<00:19,  2.38s/it]"
          ]
        },
        {
          "output_type": "stream",
          "name": "stdout",
          "text": [
            "MoviePy - Writing audio in Media/Audios/Machine Learning/Machine Learning Explained in 100 Seconds.mp3\n"
          ]
        },
        {
          "output_type": "stream",
          "name": "stderr",
          "text": [
            "\n",
            "chunk:   0%|          | 0/3398 [00:00<?, ?it/s, now=None]\u001b[A\n",
            "chunk:   2%|▏         | 64/3398 [00:00<00:05, 624.61it/s, now=None]\u001b[A\n",
            "chunk:   4%|▎         | 127/3398 [00:00<00:06, 523.66it/s, now=None]\u001b[A\n",
            "chunk:   5%|▌         | 181/3398 [00:00<00:08, 361.06it/s, now=None]\u001b[AERROR:root:Download Failed for Machine Learning & Artificial Intelligence: Crash Course Computer Science #34 : MoviePy error: the file Media/Audios/Machine Learning/Machine Learning & Artificial Intelligence: Crash Course Computer Science #34.mp4 could not be found!\n",
            "Please check that you entered the correct path.\n",
            "Processing videos:  30%|███       | 3/10 [00:06<00:11,  1.61s/it]\n",
            "chunk:   7%|▋         | 222/3398 [00:00<00:09, 332.14it/s, now=None]\u001b[AERROR:root:Download Failed for Machine Learning | What Is Machine Learning? | Machine Learning Basics | 2023 | Simplilearn : MoviePy error: the file Media/Audios/Machine Learning/Machine Learning | What Is Machine Learning? | Machine Learning Basics | 2023 | Simplilearn.mp4 could not be found!\n",
            "Please check that you entered the correct path.\n",
            "Processing videos:  40%|████      | 4/10 [00:06<00:06,  1.01s/it]\n",
            "chunk:   8%|▊         | 258/3398 [00:00<00:10, 300.55it/s, now=None]\u001b[A\n",
            "chunk:   9%|▊         | 290/3398 [00:01<00:28, 110.06it/s, now=None]\u001b[A\n",
            "chunk:   9%|▉         | 313/3398 [00:01<00:26, 118.63it/s, now=None]\u001b[A\n",
            "chunk:  11%|█         | 357/3398 [00:01<00:19, 155.60it/s, now=None]\u001b[AERROR:root:Download Failed for What is Machine Learning? : MoviePy error: the file Media/Audios/Machine Learning/What is Machine Learning?.mp4 could not be found!\n",
            "Please check that you entered the correct path.\n",
            "Processing videos:  50%|█████     | 5/10 [00:07<00:05,  1.13s/it]\n",
            "chunk:  11%|█         | 382/3398 [00:03<00:47, 63.06it/s, now=None] \u001b[A\n",
            "chunk:  12%|█▏        | 403/3398 [00:03<00:40, 74.22it/s, now=None]\u001b[A\n",
            "chunk:  14%|█▎        | 459/3398 [00:03<00:24, 119.84it/s, now=None]\u001b[A\n",
            "chunk:  15%|█▍        | 493/3398 [00:03<00:19, 146.35it/s, now=None]\u001b[A\n",
            "\n",
            "Processing videos:  50%|█████     | 5/10 [00:09<00:05,  1.13s/it]\n",
            "chunk:  16%|█▌        | 536/3398 [00:04<00:29, 95.99it/s, now=None]\u001b[A"
          ]
        },
        {
          "output_type": "stream",
          "name": "stdout",
          "text": [
            "MoviePy - Writing audio in Media/Audios/Machine Learning/Machine Learning vs Deep Learning.mp3\n"
          ]
        },
        {
          "output_type": "stream",
          "name": "stderr",
          "text": [
            "\n",
            "\n",
            "chunk:   0%|          | 0/10341 [00:00<?, ?it/s, now=None]\u001b[A\u001b[A\n",
            "chunk:  16%|█▌        | 545/3398 [00:04<00:28, 98.60it/s, now=None]\u001b[A\n",
            "chunk:  17%|█▋        | 570/3398 [00:04<00:24, 116.29it/s, now=None]\u001b[A\n",
            "\n",
            "chunk:   0%|          | 48/10341 [00:00<00:24, 416.80it/s, now=None]\u001b[A\u001b[A\n",
            "chunk:  18%|█▊        | 596/3398 [00:04<00:20, 136.25it/s, now=None]\u001b[A\n",
            "\n",
            "chunk:   1%|          | 90/10341 [00:00<00:27, 366.72it/s, now=None]\u001b[A\u001b[A\n",
            "chunk:  19%|█▊        | 629/3398 [00:04<00:16, 166.40it/s, now=None]\u001b[A\n",
            "\n",
            "chunk:   1%|          | 127/10341 [00:00<00:33, 303.38it/s, now=None]\u001b[A\u001b[A\n",
            "chunk:  19%|█▉        | 659/3398 [00:04<00:14, 187.31it/s, now=None]\u001b[AERROR:root:Download Failed for All Machine Learning Models Explained in 5 Minutes | Types of ML Models Basics : MoviePy error: the file Media/Audios/Machine Learning/All Machine Learning Models Explained in 5 Minutes | Types of ML Models Basics.mp4 could not be found!\n",
            "Please check that you entered the correct path.\n",
            "Processing videos:  60%|██████    | 6/10 [00:10<00:06,  1.75s/it]\n",
            "\n",
            "chunk:   2%|▏         | 159/10341 [00:01<01:38, 103.48it/s, now=None]\u001b[A\u001b[A\n",
            "chunk:  20%|██        | 684/3398 [00:05<00:30, 88.78it/s, now=None] \u001b[AERROR:root:Download Failed for Machine Learning for Everybody – Full Course : IncompleteRead(6925057 bytes read, 2512127 more expected)\n",
            "Processing videos:  70%|███████   | 7/10 [00:10<00:04,  1.57s/it]\n",
            "ERROR:root:Download Failed for Machine Learning vs Deep Learning : [Errno 32] Broken pipe\n",
            "\n",
            "MoviePy error: FFMPEG encountered the following error while writing file Media/Audios/Machine Learning/Machine Learning vs Deep Learning.mp3:\n",
            "\n",
            "b''\n",
            "\n",
            "In case it helps, make sure you are using a recent version of FFMPEG (the versions in the Ubuntu/Debian repos are deprecated).\n",
            "\n",
            "\n",
            "ERROR:root:Download Failed for Machine Learning Explained in 100 Seconds : [Errno 32] Broken pipe\n",
            "\n",
            "MoviePy error: FFMPEG encountered the following error while writing file Media/Audios/Machine Learning/Machine Learning Explained in 100 Seconds.mp3:\n",
            "\n",
            "b''\n",
            "\n",
            "In case it helps, make sure you are using a recent version of FFMPEG (the versions in the Ubuntu/Debian repos are deprecated).\n",
            "                                                                     \u001b[A\u001b[A\n",
            "                                                                   \u001b[AERROR:root:Download Failed for What's the Difference Between AI, Machine Learning, and Deep Learning? : MoviePy error: the file Media/Audios/Machine Learning/What's the Difference Between AI, Machine Learning, and Deep Learning?.mp4 could not be found!\n",
            "Please check that you entered the correct path.\n"
          ]
        },
        {
          "output_type": "error",
          "ename": "KeyboardInterrupt",
          "evalue": "",
          "traceback": [
            "\u001b[0;31m---------------------------------------------------------------------------\u001b[0m",
            "\u001b[0;31mKeyboardInterrupt\u001b[0m                         Traceback (most recent call last)",
            "\u001b[0;32m<ipython-input-1-636e27cf1b8b>\u001b[0m in \u001b[0;36m<cell line: 72>\u001b[0;34m()\u001b[0m\n\u001b[1;32m     79\u001b[0m   \u001b[0;32mwith\u001b[0m \u001b[0mThreadPoolExecutor\u001b[0m\u001b[0;34m(\u001b[0m\u001b[0mmax_workers\u001b[0m \u001b[0;34m=\u001b[0m \u001b[0;36m5\u001b[0m\u001b[0;34m)\u001b[0m \u001b[0;32mas\u001b[0m \u001b[0mexecutor\u001b[0m\u001b[0;34m:\u001b[0m\u001b[0;34m\u001b[0m\u001b[0;34m\u001b[0m\u001b[0m\n\u001b[1;32m     80\u001b[0m     \u001b[0mfutures\u001b[0m \u001b[0;34m=\u001b[0m \u001b[0;34m[\u001b[0m\u001b[0mexecutor\u001b[0m\u001b[0;34m.\u001b[0m\u001b[0msubmit\u001b[0m\u001b[0;34m(\u001b[0m\u001b[0mDownloadAndConvert\u001b[0m\u001b[0;34m,\u001b[0m \u001b[0mvideoURL\u001b[0m\u001b[0;34m,\u001b[0m \u001b[0mSubfolder\u001b[0m\u001b[0;34m)\u001b[0m \u001b[0;32mfor\u001b[0m \u001b[0mvideoURL\u001b[0m \u001b[0;32min\u001b[0m \u001b[0mvideoURLs\u001b[0m\u001b[0;34m]\u001b[0m\u001b[0;34m\u001b[0m\u001b[0;34m\u001b[0m\u001b[0m\n\u001b[0;32m---> 81\u001b[0;31m     \u001b[0;32mfor\u001b[0m \u001b[0mfuture\u001b[0m \u001b[0;32min\u001b[0m \u001b[0mtqdm\u001b[0m\u001b[0;34m(\u001b[0m\u001b[0mas_completed\u001b[0m\u001b[0;34m(\u001b[0m\u001b[0mfutures\u001b[0m\u001b[0;34m)\u001b[0m\u001b[0;34m,\u001b[0m \u001b[0mtotal\u001b[0m\u001b[0;34m=\u001b[0m\u001b[0mlen\u001b[0m\u001b[0;34m(\u001b[0m\u001b[0mfutures\u001b[0m\u001b[0;34m)\u001b[0m\u001b[0;34m,\u001b[0m \u001b[0mdesc\u001b[0m\u001b[0;34m=\u001b[0m\u001b[0;34m\"Processing videos\"\u001b[0m\u001b[0;34m)\u001b[0m\u001b[0;34m:\u001b[0m\u001b[0;34m\u001b[0m\u001b[0;34m\u001b[0m\u001b[0m\n\u001b[0m\u001b[1;32m     82\u001b[0m       \u001b[0;32mtry\u001b[0m\u001b[0;34m:\u001b[0m\u001b[0;34m\u001b[0m\u001b[0;34m\u001b[0m\u001b[0m\n\u001b[1;32m     83\u001b[0m         \u001b[0mfuture\u001b[0m\u001b[0;34m.\u001b[0m\u001b[0mresult\u001b[0m\u001b[0;34m(\u001b[0m\u001b[0;34m)\u001b[0m\u001b[0;34m\u001b[0m\u001b[0;34m\u001b[0m\u001b[0m\n",
            "\u001b[0;32m/usr/local/lib/python3.10/dist-packages/tqdm/std.py\u001b[0m in \u001b[0;36m__iter__\u001b[0;34m(self)\u001b[0m\n\u001b[1;32m   1179\u001b[0m \u001b[0;34m\u001b[0m\u001b[0m\n\u001b[1;32m   1180\u001b[0m         \u001b[0;32mtry\u001b[0m\u001b[0;34m:\u001b[0m\u001b[0;34m\u001b[0m\u001b[0;34m\u001b[0m\u001b[0m\n\u001b[0;32m-> 1181\u001b[0;31m             \u001b[0;32mfor\u001b[0m \u001b[0mobj\u001b[0m \u001b[0;32min\u001b[0m \u001b[0miterable\u001b[0m\u001b[0;34m:\u001b[0m\u001b[0;34m\u001b[0m\u001b[0;34m\u001b[0m\u001b[0m\n\u001b[0m\u001b[1;32m   1182\u001b[0m                 \u001b[0;32myield\u001b[0m \u001b[0mobj\u001b[0m\u001b[0;34m\u001b[0m\u001b[0;34m\u001b[0m\u001b[0m\n\u001b[1;32m   1183\u001b[0m                 \u001b[0;31m# Update and possibly print the progressbar.\u001b[0m\u001b[0;34m\u001b[0m\u001b[0;34m\u001b[0m\u001b[0m\n",
            "\u001b[0;32m/usr/lib/python3.10/concurrent/futures/_base.py\u001b[0m in \u001b[0;36mas_completed\u001b[0;34m(fs, timeout)\u001b[0m\n\u001b[1;32m    243\u001b[0m                             len(pending), total_futures))\n\u001b[1;32m    244\u001b[0m \u001b[0;34m\u001b[0m\u001b[0m\n\u001b[0;32m--> 245\u001b[0;31m             \u001b[0mwaiter\u001b[0m\u001b[0;34m.\u001b[0m\u001b[0mevent\u001b[0m\u001b[0;34m.\u001b[0m\u001b[0mwait\u001b[0m\u001b[0;34m(\u001b[0m\u001b[0mwait_timeout\u001b[0m\u001b[0;34m)\u001b[0m\u001b[0;34m\u001b[0m\u001b[0;34m\u001b[0m\u001b[0m\n\u001b[0m\u001b[1;32m    246\u001b[0m \u001b[0;34m\u001b[0m\u001b[0m\n\u001b[1;32m    247\u001b[0m             \u001b[0;32mwith\u001b[0m \u001b[0mwaiter\u001b[0m\u001b[0;34m.\u001b[0m\u001b[0mlock\u001b[0m\u001b[0;34m:\u001b[0m\u001b[0;34m\u001b[0m\u001b[0;34m\u001b[0m\u001b[0m\n",
            "\u001b[0;32m/usr/lib/python3.10/threading.py\u001b[0m in \u001b[0;36mwait\u001b[0;34m(self, timeout)\u001b[0m\n\u001b[1;32m    605\u001b[0m             \u001b[0msignaled\u001b[0m \u001b[0;34m=\u001b[0m \u001b[0mself\u001b[0m\u001b[0;34m.\u001b[0m\u001b[0m_flag\u001b[0m\u001b[0;34m\u001b[0m\u001b[0;34m\u001b[0m\u001b[0m\n\u001b[1;32m    606\u001b[0m             \u001b[0;32mif\u001b[0m \u001b[0;32mnot\u001b[0m \u001b[0msignaled\u001b[0m\u001b[0;34m:\u001b[0m\u001b[0;34m\u001b[0m\u001b[0;34m\u001b[0m\u001b[0m\n\u001b[0;32m--> 607\u001b[0;31m                 \u001b[0msignaled\u001b[0m \u001b[0;34m=\u001b[0m \u001b[0mself\u001b[0m\u001b[0;34m.\u001b[0m\u001b[0m_cond\u001b[0m\u001b[0;34m.\u001b[0m\u001b[0mwait\u001b[0m\u001b[0;34m(\u001b[0m\u001b[0mtimeout\u001b[0m\u001b[0;34m)\u001b[0m\u001b[0;34m\u001b[0m\u001b[0;34m\u001b[0m\u001b[0m\n\u001b[0m\u001b[1;32m    608\u001b[0m             \u001b[0;32mreturn\u001b[0m \u001b[0msignaled\u001b[0m\u001b[0;34m\u001b[0m\u001b[0;34m\u001b[0m\u001b[0m\n\u001b[1;32m    609\u001b[0m \u001b[0;34m\u001b[0m\u001b[0m\n",
            "\u001b[0;32m/usr/lib/python3.10/threading.py\u001b[0m in \u001b[0;36mwait\u001b[0;34m(self, timeout)\u001b[0m\n\u001b[1;32m    318\u001b[0m         \u001b[0;32mtry\u001b[0m\u001b[0;34m:\u001b[0m    \u001b[0;31m# restore state no matter what (e.g., KeyboardInterrupt)\u001b[0m\u001b[0;34m\u001b[0m\u001b[0;34m\u001b[0m\u001b[0m\n\u001b[1;32m    319\u001b[0m             \u001b[0;32mif\u001b[0m \u001b[0mtimeout\u001b[0m \u001b[0;32mis\u001b[0m \u001b[0;32mNone\u001b[0m\u001b[0;34m:\u001b[0m\u001b[0;34m\u001b[0m\u001b[0;34m\u001b[0m\u001b[0m\n\u001b[0;32m--> 320\u001b[0;31m                 \u001b[0mwaiter\u001b[0m\u001b[0;34m.\u001b[0m\u001b[0macquire\u001b[0m\u001b[0;34m(\u001b[0m\u001b[0;34m)\u001b[0m\u001b[0;34m\u001b[0m\u001b[0;34m\u001b[0m\u001b[0m\n\u001b[0m\u001b[1;32m    321\u001b[0m                 \u001b[0mgotit\u001b[0m \u001b[0;34m=\u001b[0m \u001b[0;32mTrue\u001b[0m\u001b[0;34m\u001b[0m\u001b[0;34m\u001b[0m\u001b[0m\n\u001b[1;32m    322\u001b[0m             \u001b[0;32melse\u001b[0m\u001b[0;34m:\u001b[0m\u001b[0;34m\u001b[0m\u001b[0;34m\u001b[0m\u001b[0m\n",
            "\u001b[0;31mKeyboardInterrupt\u001b[0m: "
          ]
        }
      ]
    },
    {
      "cell_type": "markdown",
      "source": [
        "# 11. Creating an automated pipeline using multi-threading for:\n",
        "“Automatic Download of 500 images of Dog from\n",
        "GoogleImages” → “Rescale it to 50%”."
      ],
      "metadata": {
        "id": "y4Pp014u3vnI"
      }
    },
    {
      "cell_type": "code",
      "source": [
        "!pip install requests pillow &>/dev/null\n",
        "\n",
        "import requests\n",
        "from concurrent.futures import ThreadPoolExecutor\n",
        "from PIL import Image\n",
        "import os\n",
        "import shutil\n",
        "from google.colab import files\n",
        "\n",
        "os.environ['GCS_DEVELOPER_KEY'] = 'Your_api_key_here'\n",
        "os.environ['CX'] = 'your_cx_here'\n",
        "\n",
        "def Search(Keyword, NumberOfImages):\n",
        "  params = {\n",
        "      'q' : Keyword,\n",
        "      'num' : 10,\n",
        "      'searchType' : 'image',\n",
        "\n",
        "  }"
      ],
      "metadata": {
        "id": "VnYhdq7e6qAN"
      },
      "execution_count": null,
      "outputs": []
    }
  ],
  "metadata": {
    "colab": {
      "gpuType": "T4",
      "provenance": [],
      "authorship_tag": "ABX9TyMA6kd9WdvWHCSZbHG420y2",
      "include_colab_link": true
    },
    "kernelspec": {
      "display_name": "Python 3",
      "name": "python3"
    },
    "language_info": {
      "name": "python"
    }
  },
  "nbformat": 4,
  "nbformat_minor": 0
}