{
  "cells": [
    {
      "cell_type": "markdown",
      "metadata": {
        "id": "view-in-github",
        "colab_type": "text"
      },
      "source": [
        "<a href=\"https://colab.research.google.com/github/NoobCoder6969/Advance-Python/blob/main/Advance_Python.ipynb\" target=\"_parent\"><img src=\"https://colab.research.google.com/assets/colab-badge.svg\" alt=\"Open In Colab\"/></a>"
      ]
    },
    {
      "cell_type": "markdown",
      "metadata": {
        "id": "W0_HMt4sTq4p"
      },
      "source": [
        "### 1. Create a file that contains 1000 lines of random strings."
      ]
    },
    {
      "cell_type": "code",
      "execution_count": null,
      "metadata": {
        "colab": {
          "base_uri": "https://localhost:8080/"
        },
        "id": "8K188nVpTpjI",
        "outputId": "77a9ef0d-d42d-4859-8344-556e48c9ddcf"
      },
      "outputs": [
        {
          "name": "stdout",
          "output_type": "stream",
          "text": [
            "Operation Complete\n"
          ]
        }
      ],
      "source": [
        "\n",
        "import random as r\n",
        "import string as s\n",
        "\n",
        "file = open('randomStrings', 'w')\n",
        "\n",
        "for i in range(1000):\n",
        "  stringSize = r.randint(10, 15)\n",
        "  sampleString = r.sample(s.ascii_letters + s.digits, stringSize)\n",
        "  file.write(''.join(sampleString)+ '\\n')\n",
        "\n",
        "print(\"Operation Complete\")"
      ]
    },
    {
      "cell_type": "markdown",
      "metadata": {
        "id": "go8nfTX8U67H"
      },
      "source": [
        "### 2. Create a file that contains multiple lines of random strings and file size must be 5 MB."
      ]
    },
    {
      "cell_type": "code",
      "execution_count": null,
      "metadata": {
        "colab": {
          "base_uri": "https://localhost:8080/"
        },
        "id": "9NZo8gToOZ78",
        "outputId": "4c22967d-18fe-4097-a1d5-71bf4b1e65f2"
      },
      "outputs": [
        {
          "name": "stdout",
          "output_type": "stream",
          "text": [
            "Operation Complete\n"
          ]
        }
      ],
      "source": [
        "import random as r\n",
        "import string as s\n",
        "\n",
        "def GenerateRandomString(stringSize):\n",
        "  return ''.join(r.choice(s.ascii_letters + s.digits) for i in range(stringSize))\n",
        "\n",
        "FileSizeMB = 5\n",
        "bytesTotal = FileSizeMB * 1024 * 1024\n",
        "bytesWritten = 0\n",
        "with open('randomStrings5MB', 'w') as file:\n",
        "  while bytesWritten <= bytesTotal:\n",
        "    stringSize = r.randint(10, 15)\n",
        "    sampleString = GenerateRandomString(stringSize)\n",
        "    file.write(sampleString + '\\n')\n",
        "    bytesWritten += len(sampleString) + 1\n",
        "\n",
        "print(\"Operation Complete\")"
      ]
    },
    {
      "cell_type": "markdown",
      "metadata": {
        "id": "YMYliUPE75qI"
      },
      "source": [
        "### 3. Create 10 files that contains multiple lines of random strings and file size of each file must be 5 MB."
      ]
    },
    {
      "cell_type": "code",
      "execution_count": null,
      "metadata": {
        "colab": {
          "base_uri": "https://localhost:8080/"
        },
        "id": "JrMtRux17iW0",
        "outputId": "a92cf349-aae4-445f-9d3d-2763b0299ce7"
      },
      "outputs": [
        {
          "name": "stdout",
          "output_type": "stream",
          "text": [
            "Operation Complete\n"
          ]
        }
      ],
      "source": [
        "import random as r\n",
        "import string as s\n",
        "\n",
        "def GenerateRandomString(stringSize):\n",
        "  return ''.join(r.choice(s.ascii_letters + s.digits) for i in range(stringSize))\n",
        "\n",
        "for i in range(10):\n",
        "  FileSizeMB = 5\n",
        "  bytesTotal = FileSizeMB * 1024 * 1024\n",
        "  bytesWritten = 0\n",
        "\n",
        "  with open(f'randomStrings{i}', 'w') as file:\n",
        "    while bytesWritten <= bytesTotal:\n",
        "      stringSize = r.randint(10, 15)\n",
        "      sampleString = GenerateRandomString(stringSize)\n",
        "      file.write(sampleString + '\\n')\n",
        "      bytesWritten += len(sampleString) + 1\n",
        "\n",
        "print(\"Operation Complete\")"
      ]
    },
    {
      "cell_type": "markdown",
      "metadata": {
        "id": "FHwRsrz5Ei2t"
      },
      "source": [
        "### 4. Create 5 files of size 1GB, 2GB, 3GB, 4GB and 5GB; file contains multiple lines of random strings."
      ]
    },
    {
      "cell_type": "code",
      "execution_count": null,
      "metadata": {
        "colab": {
          "background_save": true,
          "base_uri": "https://localhost:8080/"
        },
        "id": "hzaeaTjoEY_N",
        "outputId": "8702761e-60f2-487f-eb0e-35d4efb5d1ad"
      },
      "outputs": [
        {
          "name": "stdout",
          "output_type": "stream",
          "text": [
            "Operation Complete for 1 GB\n",
            "Operation Complete for 2 GB\n",
            "Operation Complete for 3 GB\n",
            "Operation Complete for 4 GB\n",
            "Operation Complete for 5 GB\n"
          ]
        }
      ],
      "source": [
        "import random as r\n",
        "import string as s\n",
        "import os\n",
        "import base64\n",
        "\n",
        "def GenerateRandomString(stringSize):\n",
        "  randomBytes = os.urandom(stringSize)\n",
        "  return base64.b64encode(randomBytes).decode('utf-8')\n",
        "\n",
        "if __name__ == '__main__':\n",
        "  fileSizes = [1, 2, 3, 4, 5]\n",
        "\n",
        "  os.makedirs('Input', exist_ok = True) #This creates a Directory named 'Input'\n",
        "\n",
        "  for i in fileSizes:\n",
        "    fileSizeMB = i * 1024\n",
        "    bytesTotal = fileSizeMB * 1024 * 1024\n",
        "    chunkSize = 10 * 1024 * 1024 #10 MB Chunk Size\n",
        "    bytesWritten = 0\n",
        "\n",
        "    filePath = os.path.join('Input' , f'randomStrings{i}GB.txt')\n",
        "\n",
        "    with open(filePath, 'w') as file:\n",
        "      while bytesWritten < bytesTotal:\n",
        "        remainingBytes = bytesTotal - bytesWritten\n",
        "        currentChunkSize = min(chunkSize, remainingBytes)\n",
        "        randomChunk = GenerateRandomString(currentChunkSize)\n",
        "        file.write(randomChunk)\n",
        "        bytesWritten += len(randomChunk.encode('utf-8'))\n",
        "\n",
        "    print(f'Operation Complete for {i} GB')\n"
      ]
    },
    {
      "cell_type": "code",
      "execution_count": null,
      "metadata": {
        "colab": {
          "base_uri": "https://localhost:8080/"
        },
        "id": "AEDLpiENQZiv",
        "outputId": "c3437557-5350-4b2c-d4c5-aa090e35999e"
      },
      "outputs": [
        {
          "name": "stdout",
          "output_type": "stream",
          "text": [
            "Input/randomStrings5GB.txt\n"
          ]
        }
      ],
      "source": [
        "print (filePath)"
      ]
    },
    {
      "cell_type": "code",
      "execution_count": null,
      "metadata": {
        "colab": {
          "base_uri": "https://localhost:8080/",
          "height": 35
        },
        "id": "QGym1inIPVdq",
        "outputId": "6ec0d736-bfe3-4158-b8a2-6ee2b96896b4"
      },
      "outputs": [
        {
          "data": {
            "application/vnd.google.colaboratory.intrinsic+json": {
              "type": "string"
            },
            "text/plain": [
              "'/content'"
            ]
          },
          "execution_count": 4,
          "metadata": {},
          "output_type": "execute_result"
        }
      ],
      "source": [
        "import os\n",
        "os.getcwd()"
      ]
    },
    {
      "cell_type": "markdown",
      "metadata": {
        "id": "AZ4eTLNHxXMW"
      },
      "source": [
        "### 5. Convert all the files of Q4 into upper case one by one."
      ]
    },
    {
      "cell_type": "code",
      "execution_count": null,
      "metadata": {
        "id": "tMelsugRxme7"
      },
      "outputs": [],
      "source": [
        "import os\n",
        "\n",
        "def convertToUpperCase(inputDirectory, outputDirectory):\n",
        "  os.makedirs(outputDirectory, exist_ok = True)\n",
        "\n",
        "  for fileName in os.listdir(inputDirectory):\n",
        "    inputFilePath = os.path.join(inputDirectory, fileName)\n",
        "    outputFilePath = os.path.join(outputDirectory, 'Uppercase '+fileName)\n",
        "\n",
        "    with open(inputFilePath, 'r') as inputFile:\n",
        "      with open(outputFilePath, 'w') as outputFile:\n",
        "        for line in inputFile:\n",
        "          outputFile.write(line.upper())\n",
        "\n",
        "    print(f'Conversion of {fileName} Successful')\n",
        "\n",
        "if __name__ == '__main__':\n",
        "  convertToUpperCase('Input', 'Output')\n",
        "\n"
      ]
    },
    {
      "cell_type": "markdown",
      "metadata": {
        "id": "2vxNtVp3346T"
      },
      "source": [
        "### 6. Convert all the files of Q4 into upper case parallel using multi-threading"
      ]
    },
    {
      "cell_type": "code",
      "execution_count": null,
      "metadata": {
        "id": "pluX676JiEP3"
      },
      "outputs": [],
      "source": [
        "import os\n",
        "import concurrent.futures\n",
        "\n",
        "def convertFileToUpperCase(inputFileName, outputFileName):\n",
        "  try:\n",
        "\n",
        "    with open(inputFileName, 'r', encoding='utf-8') as inputFile:\n",
        "        with open(outputFileName, 'w', encoding='utf-8') as outputFile:\n",
        "          for line in inputFile:\n",
        "            outputFile.write(line.upper())\n",
        "\n",
        "            print(f'Conversion of {inputFileName} Successful')\n",
        "\n",
        "  except Exception as e:\n",
        "    print(f'Conversion of {inputFileName} Failed : {e}')\n",
        "\n",
        "def convertToUpperCase(inputDirectory, outputDirectory):\n",
        "  os.makedirs(outputDirectory, exist_ok = True)\n",
        "\n",
        "  with concurrent.futures.ThreadPoolExecutor() as executor:\n",
        "    for fileName in os.listdir(inputDirectory):\n",
        "          inputFilePath = os.path.join(inputDirectory, fileName)\n",
        "          outputFilePath = os.path.join(outputDirectory, 'Uppercase '+fileName)\n",
        "          executor.submit(convertFileToUpperCase, inputFilePath, outputFilePath)\n",
        "\n",
        "if __name__ == '__main__':\n",
        "  convertToUpperCase('Input', 'Output')\n",
        "  print(\"Operation Complete\")\n"
      ]
    },
    {
      "cell_type": "markdown",
      "metadata": {
        "id": "i7QPK5VyS4uF"
      },
      "source": [
        "### 7. To automatically download 10 images of cat from “Google Images”."
      ]
    },
    {
      "cell_type": "code",
      "execution_count": null,
      "metadata": {
        "id": "JIpynhhOS_5t",
        "colab": {
          "base_uri": "https://localhost:8080/",
          "height": 156
        },
        "outputId": "8da1e08b-0179-4b28-f0b6-38211b6ef725"
      },
      "outputs": [
        {
          "output_type": "stream",
          "name": "stdout",
          "text": [
            "Enter Keyword : Cat\n",
            "Enter Number : 10\n",
            "Enter Subfolder : CAT\n",
            "GCS Developer Key and CX not set\n",
            "Search Completed\n",
            "Downloading Complete\n",
            "Convert to Zip and Download? Yes or No : yES\n",
            "Zip File CAT Created\n"
          ]
        },
        {
          "output_type": "display_data",
          "data": {
            "text/plain": [
              "<IPython.core.display.Javascript object>"
            ],
            "application/javascript": [
              "\n",
              "    async function download(id, filename, size) {\n",
              "      if (!google.colab.kernel.accessAllowed) {\n",
              "        return;\n",
              "      }\n",
              "      const div = document.createElement('div');\n",
              "      const label = document.createElement('label');\n",
              "      label.textContent = `Downloading \"${filename}\": `;\n",
              "      div.appendChild(label);\n",
              "      const progress = document.createElement('progress');\n",
              "      progress.max = size;\n",
              "      div.appendChild(progress);\n",
              "      document.body.appendChild(div);\n",
              "\n",
              "      const buffers = [];\n",
              "      let downloaded = 0;\n",
              "\n",
              "      const channel = await google.colab.kernel.comms.open(id);\n",
              "      // Send a message to notify the kernel that we're ready.\n",
              "      channel.send({})\n",
              "\n",
              "      for await (const message of channel.messages) {\n",
              "        // Send a message to notify the kernel that we're ready.\n",
              "        channel.send({})\n",
              "        if (message.buffers) {\n",
              "          for (const buffer of message.buffers) {\n",
              "            buffers.push(buffer);\n",
              "            downloaded += buffer.byteLength;\n",
              "            progress.value = downloaded;\n",
              "          }\n",
              "        }\n",
              "      }\n",
              "      const blob = new Blob(buffers, {type: 'application/binary'});\n",
              "      const a = document.createElement('a');\n",
              "      a.href = window.URL.createObjectURL(blob);\n",
              "      a.download = filename;\n",
              "      div.appendChild(a);\n",
              "      a.click();\n",
              "      div.remove();\n",
              "    }\n",
              "  "
            ]
          },
          "metadata": {}
        },
        {
          "output_type": "display_data",
          "data": {
            "text/plain": [
              "<IPython.core.display.Javascript object>"
            ],
            "application/javascript": [
              "download(\"download_d679c357-abf1-4eb6-9823-aef9970e3912\", \"CAT.zip\", 35100668)"
            ]
          },
          "metadata": {}
        }
      ],
      "source": [
        "!pip install google_images_search &>/dev/NULL\n",
        "\n",
        "from google_images_search import GoogleImagesSearch\n",
        "import shutil\n",
        "from google.colab import files\n",
        "import os\n",
        "\n",
        "os.environ['GCS_DEVELOPER_KEY'] = 'your_api_key_here'\n",
        "os.environ['GCS_CX'] = 'your_cx_here'\n",
        "\n",
        "def Search(Keyword, Number, Subfolder):\n",
        "\n",
        "  os.makedirs(f'Images/{Subfolder}', exist_ok = True)\n",
        "\n",
        "  apiKey = os.getenv('GCS_Developer_Key')\n",
        "  cx = os.getenv('CX')\n",
        "\n",
        "  gis = GoogleImagesSearch(apiKey, cx, validate_images = True)\n",
        "  if not apiKey or not cx:\n",
        "    print('GCS Developer Key and CX not set')\n",
        "\n",
        "  _search_params = {\n",
        "      'q' : Keyword,\n",
        "      'num' : Number\n",
        "  }\n",
        "  gis.search(search_params = _search_params, path_to_dir=f'Images/{Subfolder}')\n",
        "  print('Search Completed')\n",
        "\n",
        "if __name__ == '__main__':\n",
        "  Keyword = input('Enter Keyword : ')\n",
        "  Number = int(input('Enter Number : '))\n",
        "  Subfolder = input('Enter Subfolder : ')\n",
        "  Search(Keyword, Number, Subfolder)\n",
        "  print('Downloading Complete')\n",
        "\n",
        "  Choice = input(\"Convert to Zip and Download? Yes or No : \").lower()\n",
        "\n",
        "  if Choice in ['yes', 'y']:\n",
        "    shutil.make_archive(f'Images/{Subfolder}', 'zip', f'Images/{Subfolder}')\n",
        "    print(f'Zip File {Subfolder} Created')\n",
        "\n",
        "    files.download(f'Images/{Subfolder}.zip')\n",
        "\n",
        "  else:\n",
        "    print('Zip File Skipped')"
      ]
    },
    {
      "cell_type": "markdown",
      "source": [
        "### 8. To automatically download 10 videos of “Machine Learning” from “Youtube.com”."
      ],
      "metadata": {
        "id": "TFpK0pjX5LN4"
      }
    },
    {
      "cell_type": "code",
      "source": [
        "!pip install pytube &>/dev/NULL\n",
        "\n",
        "from googleapiclient.discovery import build\n",
        "from pytube import YouTube\n",
        "import os\n",
        "import shutil\n",
        "from google.colab import files\n",
        "\n",
        "os.environ['YouTube_API_Key'] = 'your_api_key_here'\n",
        "\n",
        "def Search(Keyword, Number):\n",
        "  api_key = os.getenv('YouTube_API_Key')\n",
        "  if not api_key:\n",
        "    raise ValueError('No API key found. Please set YouTube API Key')\n",
        "\n",
        "  youtube = build('youtube', 'v3', developerKey = api_key)\n",
        "  searchResponse = youtube.search().list(\n",
        "      q = Keyword,\n",
        "      part = 'id, snippet',\n",
        "      maxResults = Number,\n",
        "      type = 'Video'\n",
        "  ).execute()\n",
        "\n",
        "  videoURLs = []\n",
        "  for searchResult in searchResponse.get('items', []):\n",
        "    videoID = searchResult['id']['videoId']\n",
        "    videoURL = f'https://www.youtube.com/watch?v={videoID}'\n",
        "    videoURLs.append(videoURL)\n",
        "\n",
        "  return videoURLs\n",
        "\n",
        "def Download(videoURL, Subfolder):\n",
        "  outputPath = f'Media/Videos/{Subfolder}'\n",
        "  os.makedirs(outputPath, exist_ok = True)\n",
        "  yt = YouTube(videoURL)\n",
        "  maxRetries = 3\n",
        "  for attempt in range(1, maxRetries + 1):\n",
        "    try:\n",
        "      stream = yt.streams.filter(progressive = True, file_extension = 'mp4').order_by('resolution').desc().first()\n",
        "      if stream:\n",
        "        print(f'Downloading {yt.title}')\n",
        "        stream.download(outputPath)\n",
        "        print(f'Download Complete for {yt.title}')\n",
        "        break\n",
        "      else:\n",
        "        print(f'No suitable streams found for {yt.title}')\n",
        "\n",
        "    except Exception as e:\n",
        "      print(f'Download Failed for {yt.title} : {e}')\n",
        "      if attempt < maxRetries:\n",
        "        print(f'Retrying Download ...')\n",
        "      else:\n",
        "        print(f'Failed to download {yt.title} after {maxRetries} attempts.')\n",
        "\n",
        "if __name__ == '__main__':\n",
        "  Keyword = input('Enter Keyword: ')\n",
        "  Number = int(input('Enter Number of Videos: '))\n",
        "  Subfolder = input('Enter Subfolder: ')\n",
        "\n",
        "  videoURLs = Search(Keyword, Number)\n",
        "\n",
        "  for videoURL in videoURLs:\n",
        "    Download(videoURL, Subfolder)\n",
        "\n",
        "  print('All Downloads Complete')\n",
        "\n",
        "  Choice = input(\"Convert to Zip and Download to system? Yes or No : \").lower()\n",
        "  if Choice in ['yes', 'y', 'yeah', 'sure']:\n",
        "    shutil.make_archive(f'Media/Videos/{Subfolder}', 'zip', f'Videos/{Subfolder}')\n",
        "    print(f'Zip File {Subfolder}.zip Created')\n",
        "    files.download(f'Media/Videos/{Subfolder}.zip')\n",
        "  else:\n",
        "    print('Zip File Skipped')"
      ],
      "metadata": {
        "id": "8ynwuyAM5KVM",
        "colab": {
          "base_uri": "https://localhost:8080/",
          "height": 627
        },
        "outputId": "d3b63b8d-0de8-4bdf-cd8d-1316d8df0d8c"
      },
      "execution_count": 14,
      "outputs": [
        {
          "output_type": "stream",
          "name": "stdout",
          "text": [
            "Enter Keyword: Machine Learning\n",
            "Enter Number of Videos: 10\n",
            "Enter Subfolder: Machine Learning\n",
            "Downloading AI vs Machine Learning\n",
            "Download Complete for AI vs Machine Learning\n",
            "Downloading Machine Learning | What Is Machine Learning? | Introduction To Machine Learning | 2024 | Simplilearn\n",
            "Download Complete for Machine Learning | What Is Machine Learning? | Introduction To Machine Learning | 2024 | Simplilearn\n",
            "Downloading Machine Learning Explained in 100 Seconds\n",
            "Download Complete for Machine Learning Explained in 100 Seconds\n",
            "Downloading What is Machine Learning?\n",
            "Download Complete for What is Machine Learning?\n",
            "Downloading Machine Learning for Everybody – Full Course\n",
            "Download Failed for Machine Learning for Everybody – Full Course : IncompleteRead(6925057 bytes read, 2512127 more expected)\n",
            "Retrying Download ...\n",
            "Downloading Machine Learning for Everybody – Full Course\n",
            "Download Failed for Machine Learning for Everybody – Full Course : IncompleteRead(6925057 bytes read, 2512127 more expected)\n",
            "Retrying Download ...\n",
            "Downloading Machine Learning for Everybody – Full Course\n",
            "Download Failed for Machine Learning for Everybody – Full Course : IncompleteRead(6925057 bytes read, 2512127 more expected)\n",
            "Failed to download Machine Learning for Everybody – Full Course after 3 attempts.\n",
            "Downloading Python Machine Learning Tutorial (Data Science)\n",
            "Download Complete for Python Machine Learning Tutorial (Data Science)\n",
            "Downloading Machine Learning vs Deep Learning\n",
            "Download Complete for Machine Learning vs Deep Learning\n",
            "Downloading 11. Introduction to Machine Learning\n",
            "Download Complete for 11. Introduction to Machine Learning\n",
            "Downloading Bias vs Variance: The Tug-of-War in Machine Learning Explained #ai #ml #shorts #ytshorts #short\n",
            "Download Complete for Bias vs Variance: The Tug-of-War in Machine Learning Explained #ai #ml #shorts #ytshorts #short\n",
            "Downloading Machine Learning & Artificial Intelligence: Crash Course Computer Science #34\n",
            "Download Complete for Machine Learning & Artificial Intelligence: Crash Course Computer Science #34\n",
            "All Downloads Complete\n",
            "Convert to Zip and Download to system? Yes or No : sure\n",
            "Zip File Machine Learning.zip Created\n"
          ]
        },
        {
          "output_type": "display_data",
          "data": {
            "text/plain": [
              "<IPython.core.display.Javascript object>"
            ],
            "application/javascript": [
              "\n",
              "    async function download(id, filename, size) {\n",
              "      if (!google.colab.kernel.accessAllowed) {\n",
              "        return;\n",
              "      }\n",
              "      const div = document.createElement('div');\n",
              "      const label = document.createElement('label');\n",
              "      label.textContent = `Downloading \"${filename}\": `;\n",
              "      div.appendChild(label);\n",
              "      const progress = document.createElement('progress');\n",
              "      progress.max = size;\n",
              "      div.appendChild(progress);\n",
              "      document.body.appendChild(div);\n",
              "\n",
              "      const buffers = [];\n",
              "      let downloaded = 0;\n",
              "\n",
              "      const channel = await google.colab.kernel.comms.open(id);\n",
              "      // Send a message to notify the kernel that we're ready.\n",
              "      channel.send({})\n",
              "\n",
              "      for await (const message of channel.messages) {\n",
              "        // Send a message to notify the kernel that we're ready.\n",
              "        channel.send({})\n",
              "        if (message.buffers) {\n",
              "          for (const buffer of message.buffers) {\n",
              "            buffers.push(buffer);\n",
              "            downloaded += buffer.byteLength;\n",
              "            progress.value = downloaded;\n",
              "          }\n",
              "        }\n",
              "      }\n",
              "      const blob = new Blob(buffers, {type: 'application/binary'});\n",
              "      const a = document.createElement('a');\n",
              "      a.href = window.URL.createObjectURL(blob);\n",
              "      a.download = filename;\n",
              "      div.appendChild(a);\n",
              "      a.click();\n",
              "      div.remove();\n",
              "    }\n",
              "  "
            ]
          },
          "metadata": {}
        },
        {
          "output_type": "display_data",
          "data": {
            "text/plain": [
              "<IPython.core.display.Javascript object>"
            ],
            "application/javascript": [
              "download(\"download_c26b078c-186b-4d74-aaa3-39d961e071ae\", \"Machine Learning.zip\", 218530622)"
            ]
          },
          "metadata": {}
        }
      ]
    },
    {
      "cell_type": "markdown",
      "source": [
        "### 9. Convert all the downloaded YouTube videos and convert them to audio."
      ],
      "metadata": {
        "id": "nyQC4fl5TzHP"
      }
    },
    {
      "cell_type": "code",
      "source": [
        "!pip install pytube moviepy &>/dev/NULL\n",
        "\n",
        "from googleapiclient.discovery import build\n",
        "from pytube import YouTube\n",
        "from moviepy.editor import VideoFileClip\n",
        "import os\n",
        "import shutil\n",
        "from google.colab import files\n",
        "\n",
        "os.environ['YouTube_API_Key'] = 'your_api_key_here'\n",
        "\n",
        "def Search(Keyword, Number):\n",
        "  api_key = os.getenv('YouTube_API_Key')\n",
        "  if not api_key:\n",
        "    raise ValueError('No API key found. Please set YouTube API Key')\n",
        "\n",
        "  youtube = build('youtube', 'v3', developerKey = api_key)\n",
        "  searchResponse = youtube.search().list(\n",
        "      q = Keyword,\n",
        "      part = 'id, snippet',\n",
        "      maxResults = Number,\n",
        "      type = 'Video'\n",
        "  ).execute()\n",
        "\n",
        "  videoURLs = []\n",
        "  for searchResult in searchResponse.get('items', []):\n",
        "    videoID = searchResult['id']['videoId']\n",
        "    videoURL = f'https://www.youtube.com/watch?v={videoID}'\n",
        "    videoURLs.append(videoURL)\n",
        "\n",
        "  return videoURLs\n",
        "\n",
        "def Download(videoURL, Subfolder):\n",
        "  outputPath = f'Media/Audios/{Subfolder}'\n",
        "  os.makedirs(outputPath, exist_ok = True)\n",
        "  yt = YouTube(videoURL)\n",
        "  maxRetries = 3\n",
        "  for attempt in range(1, maxRetries + 1):\n",
        "    try:\n",
        "      stream = yt.streams.filter(progressive = True, file_extension = 'mp4').order_by('resolution').desc().first()\n",
        "      if stream:\n",
        "        print(f'Downloading {yt.title}')\n",
        "        stream.download(outputPath)\n",
        "        print(f'Download Complete for {yt.title}')\n",
        "\n",
        "        videoPath = os.path.join(outputPath, yt.title + '.mp4')\n",
        "        audioPath = os.path.join(outputPath, yt.title + '.mp3')\n",
        "\n",
        "        videoClip = VideoFileClip(videoPath)\n",
        "        audioClip = videoClip.audio\n",
        "        audioClip.write_audiofile(audioPath)\n",
        "\n",
        "        audioClip.close()\n",
        "        videoClip.close()\n",
        "\n",
        "        os.remove(videoPath)\n",
        "\n",
        "        break\n",
        "      else:\n",
        "        print(f'No suitable streams found for {yt.title}')\n",
        "\n",
        "    except Exception as e:\n",
        "      print(f'Download Failed for {yt.title} : {e}')\n",
        "      if attempt < maxRetries:\n",
        "        print(f'Retrying Download ...')\n",
        "      else:\n",
        "        print(f'Failed to download {yt.title} after {maxRetries} attempts.')\n",
        "\n",
        "if __name__ == '__main__':\n",
        "  Keyword = input('Enter Keyword: ')\n",
        "  Number = int(input('Enter the Number of Videos to convert to Audio: '))\n",
        "  Subfolder = input('Enter Subfolder: ')\n",
        "\n",
        "  videoURLs = Search(Keyword, Number)\n",
        "\n",
        "  for videoURL in videoURLs:\n",
        "    Download(videoURL, Subfolder)\n",
        "\n",
        "  print('All Downloads Complete')\n",
        "\n",
        "  Choice = input(\"Convert to Zip and Download to system? Yes or No : \").lower()\n",
        "  if Choice in ['yes', 'y', 'yeah', 'sure']:\n",
        "    shutil.make_archive(f'Media/Audios/{Subfolder}', 'zip', f'Videos/{Subfolder}')\n",
        "    print(f'Zip File {Subfolder}.zip Created')\n",
        "    files.download(f'Media/Audios/{Subfolder}.zip')\n",
        "  else:\n",
        "    print('Zip File Skipped')"
      ],
      "metadata": {
        "colab": {
          "base_uri": "https://localhost:8080/",
          "height": 1000
        },
        "id": "jD1WRUluJvhr",
        "outputId": "2068b92a-5da6-441e-8efe-5235b281d562"
      },
      "execution_count": 15,
      "outputs": [
        {
          "output_type": "stream",
          "name": "stdout",
          "text": [
            "Enter Keyword: Machine Learning\n",
            "Enter the Number of Videos to convert to Audio: 10\n",
            "Enter Subfolder: Machine Learning\n",
            "Downloading AI vs Machine Learning\n",
            "Download Complete for AI vs Machine Learning\n",
            "MoviePy - Writing audio in Media/Audios/Machine Learning/AI vs Machine Learning.mp3\n"
          ]
        },
        {
          "output_type": "stream",
          "name": "stderr",
          "text": []
        },
        {
          "output_type": "stream",
          "name": "stdout",
          "text": [
            "MoviePy - Done.\n",
            "Downloading Machine Learning | What Is Machine Learning? | Introduction To Machine Learning | 2024 | Simplilearn\n",
            "Download Complete for Machine Learning | What Is Machine Learning? | Introduction To Machine Learning | 2024 | Simplilearn\n",
            "Download Failed for Machine Learning | What Is Machine Learning? | Introduction To Machine Learning | 2024 | Simplilearn : MoviePy error: the file Media/Audios/Machine Learning/Machine Learning | What Is Machine Learning? | Introduction To Machine Learning | 2024 | Simplilearn.mp4 could not be found!\n",
            "Please check that you entered the correct path.\n",
            "Retrying Download ...\n",
            "Downloading Machine Learning | What Is Machine Learning? | Introduction To Machine Learning | 2024 | Simplilearn\n",
            "Download Complete for Machine Learning | What Is Machine Learning? | Introduction To Machine Learning | 2024 | Simplilearn\n",
            "Download Failed for Machine Learning | What Is Machine Learning? | Introduction To Machine Learning | 2024 | Simplilearn : MoviePy error: the file Media/Audios/Machine Learning/Machine Learning | What Is Machine Learning? | Introduction To Machine Learning | 2024 | Simplilearn.mp4 could not be found!\n",
            "Please check that you entered the correct path.\n",
            "Retrying Download ...\n",
            "Downloading Machine Learning | What Is Machine Learning? | Introduction To Machine Learning | 2024 | Simplilearn\n",
            "Download Complete for Machine Learning | What Is Machine Learning? | Introduction To Machine Learning | 2024 | Simplilearn\n",
            "Download Failed for Machine Learning | What Is Machine Learning? | Introduction To Machine Learning | 2024 | Simplilearn : MoviePy error: the file Media/Audios/Machine Learning/Machine Learning | What Is Machine Learning? | Introduction To Machine Learning | 2024 | Simplilearn.mp4 could not be found!\n",
            "Please check that you entered the correct path.\n",
            "Failed to download Machine Learning | What Is Machine Learning? | Introduction To Machine Learning | 2024 | Simplilearn after 3 attempts.\n",
            "Downloading Machine Learning Explained in 100 Seconds\n",
            "Download Complete for Machine Learning Explained in 100 Seconds\n",
            "MoviePy - Writing audio in Media/Audios/Machine Learning/Machine Learning Explained in 100 Seconds.mp3\n"
          ]
        },
        {
          "output_type": "stream",
          "name": "stderr",
          "text": []
        },
        {
          "output_type": "stream",
          "name": "stdout",
          "text": [
            "MoviePy - Done.\n",
            "Downloading What is Machine Learning?\n",
            "Download Complete for What is Machine Learning?\n",
            "Download Failed for What is Machine Learning? : MoviePy error: the file Media/Audios/Machine Learning/What is Machine Learning?.mp4 could not be found!\n",
            "Please check that you entered the correct path.\n",
            "Retrying Download ...\n",
            "Downloading What is Machine Learning?\n",
            "Download Complete for What is Machine Learning?\n",
            "Download Failed for What is Machine Learning? : MoviePy error: the file Media/Audios/Machine Learning/What is Machine Learning?.mp4 could not be found!\n",
            "Please check that you entered the correct path.\n",
            "Retrying Download ...\n",
            "Downloading What is Machine Learning?\n",
            "Download Complete for What is Machine Learning?\n",
            "Download Failed for What is Machine Learning? : MoviePy error: the file Media/Audios/Machine Learning/What is Machine Learning?.mp4 could not be found!\n",
            "Please check that you entered the correct path.\n",
            "Failed to download What is Machine Learning? after 3 attempts.\n",
            "Downloading Machine Learning for Everybody – Full Course\n",
            "Download Failed for Machine Learning for Everybody – Full Course : IncompleteRead(6925057 bytes read, 2512127 more expected)\n",
            "Retrying Download ...\n",
            "Downloading Machine Learning for Everybody – Full Course\n",
            "Download Failed for Machine Learning for Everybody – Full Course : IncompleteRead(6925057 bytes read, 2512127 more expected)\n",
            "Retrying Download ...\n",
            "Downloading Machine Learning for Everybody – Full Course\n",
            "Download Failed for Machine Learning for Everybody – Full Course : IncompleteRead(6925057 bytes read, 2512127 more expected)\n",
            "Failed to download Machine Learning for Everybody – Full Course after 3 attempts.\n",
            "Downloading MACHINE LEARNING | Aprendizaje Supervisado, No Supervisado y Por Refuerzo\n",
            "Download Complete for MACHINE LEARNING | Aprendizaje Supervisado, No Supervisado y Por Refuerzo\n",
            "Download Failed for MACHINE LEARNING | Aprendizaje Supervisado, No Supervisado y Por Refuerzo : MoviePy error: the file Media/Audios/Machine Learning/MACHINE LEARNING | Aprendizaje Supervisado, No Supervisado y Por Refuerzo.mp4 could not be found!\n",
            "Please check that you entered the correct path.\n",
            "Retrying Download ...\n",
            "Downloading MACHINE LEARNING | Aprendizaje Supervisado, No Supervisado y Por Refuerzo\n",
            "Download Complete for MACHINE LEARNING | Aprendizaje Supervisado, No Supervisado y Por Refuerzo\n",
            "Download Failed for MACHINE LEARNING | Aprendizaje Supervisado, No Supervisado y Por Refuerzo : MoviePy error: the file Media/Audios/Machine Learning/MACHINE LEARNING | Aprendizaje Supervisado, No Supervisado y Por Refuerzo.mp4 could not be found!\n",
            "Please check that you entered the correct path.\n",
            "Retrying Download ...\n",
            "Downloading MACHINE LEARNING | Aprendizaje Supervisado, No Supervisado y Por Refuerzo\n",
            "Download Complete for MACHINE LEARNING | Aprendizaje Supervisado, No Supervisado y Por Refuerzo\n",
            "Download Failed for MACHINE LEARNING | Aprendizaje Supervisado, No Supervisado y Por Refuerzo : MoviePy error: the file Media/Audios/Machine Learning/MACHINE LEARNING | Aprendizaje Supervisado, No Supervisado y Por Refuerzo.mp4 could not be found!\n",
            "Please check that you entered the correct path.\n",
            "Failed to download MACHINE LEARNING | Aprendizaje Supervisado, No Supervisado y Por Refuerzo after 3 attempts.\n",
            "Downloading But what is a neural network? | Chapter 1, Deep learning\n",
            "Download Complete for But what is a neural network? | Chapter 1, Deep learning\n",
            "Download Failed for But what is a neural network? | Chapter 1, Deep learning : MoviePy error: the file Media/Audios/Machine Learning/But what is a neural network? | Chapter 1, Deep learning.mp4 could not be found!\n",
            "Please check that you entered the correct path.\n",
            "Retrying Download ...\n",
            "Downloading But what is a neural network? | Chapter 1, Deep learning\n",
            "Download Complete for But what is a neural network? | Chapter 1, Deep learning\n",
            "Download Failed for But what is a neural network? | Chapter 1, Deep learning : MoviePy error: the file Media/Audios/Machine Learning/But what is a neural network? | Chapter 1, Deep learning.mp4 could not be found!\n",
            "Please check that you entered the correct path.\n",
            "Retrying Download ...\n",
            "Downloading But what is a neural network? | Chapter 1, Deep learning\n",
            "Download Complete for But what is a neural network? | Chapter 1, Deep learning\n",
            "Download Failed for But what is a neural network? | Chapter 1, Deep learning : MoviePy error: the file Media/Audios/Machine Learning/But what is a neural network? | Chapter 1, Deep learning.mp4 could not be found!\n",
            "Please check that you entered the correct path.\n",
            "Failed to download But what is a neural network? | Chapter 1, Deep learning after 3 attempts.\n",
            "Downloading Python Machine Learning Tutorial (Data Science)\n",
            "Download Complete for Python Machine Learning Tutorial (Data Science)\n",
            "MoviePy - Writing audio in Media/Audios/Machine Learning/Python Machine Learning Tutorial (Data Science).mp3\n"
          ]
        },
        {
          "output_type": "stream",
          "name": "stderr",
          "text": []
        },
        {
          "output_type": "stream",
          "name": "stdout",
          "text": [
            "MoviePy - Done.\n",
            "Downloading Bias vs Variance: The Tug-of-War in Machine Learning Explained #ai #ml #shorts #ytshorts #short\n",
            "Download Complete for Bias vs Variance: The Tug-of-War in Machine Learning Explained #ai #ml #shorts #ytshorts #short\n",
            "Download Failed for Bias vs Variance: The Tug-of-War in Machine Learning Explained #ai #ml #shorts #ytshorts #short : MoviePy error: the file Media/Audios/Machine Learning/Bias vs Variance: The Tug-of-War in Machine Learning Explained #ai #ml #shorts #ytshorts #short.mp4 could not be found!\n",
            "Please check that you entered the correct path.\n",
            "Retrying Download ...\n",
            "Downloading Bias vs Variance: The Tug-of-War in Machine Learning Explained #ai #ml #shorts #ytshorts #short\n",
            "Download Complete for Bias vs Variance: The Tug-of-War in Machine Learning Explained #ai #ml #shorts #ytshorts #short\n",
            "Download Failed for Bias vs Variance: The Tug-of-War in Machine Learning Explained #ai #ml #shorts #ytshorts #short : MoviePy error: the file Media/Audios/Machine Learning/Bias vs Variance: The Tug-of-War in Machine Learning Explained #ai #ml #shorts #ytshorts #short.mp4 could not be found!\n",
            "Please check that you entered the correct path.\n",
            "Retrying Download ...\n",
            "Downloading Bias vs Variance: The Tug-of-War in Machine Learning Explained #ai #ml #shorts #ytshorts #short\n",
            "Download Complete for Bias vs Variance: The Tug-of-War in Machine Learning Explained #ai #ml #shorts #ytshorts #short\n",
            "Download Failed for Bias vs Variance: The Tug-of-War in Machine Learning Explained #ai #ml #shorts #ytshorts #short : MoviePy error: the file Media/Audios/Machine Learning/Bias vs Variance: The Tug-of-War in Machine Learning Explained #ai #ml #shorts #ytshorts #short.mp4 could not be found!\n",
            "Please check that you entered the correct path.\n",
            "Failed to download Bias vs Variance: The Tug-of-War in Machine Learning Explained #ai #ml #shorts #ytshorts #short after 3 attempts.\n",
            "Downloading Advice for machine learning beginners | Andrej Karpathy and Lex Fridman\n",
            "Download Complete for Advice for machine learning beginners | Andrej Karpathy and Lex Fridman\n",
            "Download Failed for Advice for machine learning beginners | Andrej Karpathy and Lex Fridman : MoviePy error: the file Media/Audios/Machine Learning/Advice for machine learning beginners | Andrej Karpathy and Lex Fridman.mp4 could not be found!\n",
            "Please check that you entered the correct path.\n",
            "Retrying Download ...\n",
            "Downloading Advice for machine learning beginners | Andrej Karpathy and Lex Fridman\n",
            "Download Complete for Advice for machine learning beginners | Andrej Karpathy and Lex Fridman\n",
            "Download Failed for Advice for machine learning beginners | Andrej Karpathy and Lex Fridman : MoviePy error: the file Media/Audios/Machine Learning/Advice for machine learning beginners | Andrej Karpathy and Lex Fridman.mp4 could not be found!\n",
            "Please check that you entered the correct path.\n",
            "Retrying Download ...\n",
            "Downloading Advice for machine learning beginners | Andrej Karpathy and Lex Fridman\n",
            "Download Complete for Advice for machine learning beginners | Andrej Karpathy and Lex Fridman\n",
            "Download Failed for Advice for machine learning beginners | Andrej Karpathy and Lex Fridman : MoviePy error: the file Media/Audios/Machine Learning/Advice for machine learning beginners | Andrej Karpathy and Lex Fridman.mp4 could not be found!\n",
            "Please check that you entered the correct path.\n",
            "Failed to download Advice for machine learning beginners | Andrej Karpathy and Lex Fridman after 3 attempts.\n",
            "All Downloads Complete\n",
            "Convert to Zip and Download to system? Yes or No : yeah\n",
            "Zip File Machine Learning.zip Created\n"
          ]
        },
        {
          "output_type": "display_data",
          "data": {
            "text/plain": [
              "<IPython.core.display.Javascript object>"
            ],
            "application/javascript": [
              "\n",
              "    async function download(id, filename, size) {\n",
              "      if (!google.colab.kernel.accessAllowed) {\n",
              "        return;\n",
              "      }\n",
              "      const div = document.createElement('div');\n",
              "      const label = document.createElement('label');\n",
              "      label.textContent = `Downloading \"${filename}\": `;\n",
              "      div.appendChild(label);\n",
              "      const progress = document.createElement('progress');\n",
              "      progress.max = size;\n",
              "      div.appendChild(progress);\n",
              "      document.body.appendChild(div);\n",
              "\n",
              "      const buffers = [];\n",
              "      let downloaded = 0;\n",
              "\n",
              "      const channel = await google.colab.kernel.comms.open(id);\n",
              "      // Send a message to notify the kernel that we're ready.\n",
              "      channel.send({})\n",
              "\n",
              "      for await (const message of channel.messages) {\n",
              "        // Send a message to notify the kernel that we're ready.\n",
              "        channel.send({})\n",
              "        if (message.buffers) {\n",
              "          for (const buffer of message.buffers) {\n",
              "            buffers.push(buffer);\n",
              "            downloaded += buffer.byteLength;\n",
              "            progress.value = downloaded;\n",
              "          }\n",
              "        }\n",
              "      }\n",
              "      const blob = new Blob(buffers, {type: 'application/binary'});\n",
              "      const a = document.createElement('a');\n",
              "      a.href = window.URL.createObjectURL(blob);\n",
              "      a.download = filename;\n",
              "      div.appendChild(a);\n",
              "      a.click();\n",
              "      div.remove();\n",
              "    }\n",
              "  "
            ]
          },
          "metadata": {}
        },
        {
          "output_type": "display_data",
          "data": {
            "text/plain": [
              "<IPython.core.display.Javascript object>"
            ],
            "application/javascript": [
              "download(\"download_72fa475b-0c86-4205-b2d5-700a34a343e7\", \"Machine Learning.zip\", 218530622)"
            ]
          },
          "metadata": {}
        }
      ]
    },
    {
      "cell_type": "markdown",
      "source": [],
      "metadata": {
        "id": "b1fjHouIX2uk"
      }
    },
    {
      "cell_type": "markdown",
      "source": [
        "An automated pipeline using multi-threading for:  \n",
        "“Automatic Download of 100 Videos from YouTube” → “Convert it to Audio”."
      ],
      "metadata": {
        "id": "hPuP7zP2bjcS"
      }
    },
    {
      "cell_type": "code",
      "source": [],
      "metadata": {
        "id": "E_TU5t-idCs9"
      },
      "execution_count": null,
      "outputs": []
    }
  ],
  "metadata": {
    "colab": {
      "gpuType": "T4",
      "provenance": [],
      "authorship_tag": "ABX9TyNCBocsUYrBZYy8eaRaXVWv",
      "include_colab_link": true
    },
    "kernelspec": {
      "display_name": "Python 3",
      "name": "python3"
    },
    "language_info": {
      "name": "python"
    }
  },
  "nbformat": 4,
  "nbformat_minor": 0
}